{
 "cells": [
  {
   "cell_type": "markdown",
   "id": "eae63203-1301-4c91-ac50-8e6c2d0df00a",
   "metadata": {},
   "source": [
    "### Importing Libraries"
   ]
  },
  {
   "cell_type": "code",
   "execution_count": 3,
   "id": "0c05d8c4-2006-4b92-b24a-8a5e6391e21c",
   "metadata": {},
   "outputs": [],
   "source": [
    "import pandas as pd\n",
    "import numpy as np\n",
    "import matplotlib.pyplot as plt\n",
    "import seaborn as sns"
   ]
  },
  {
   "cell_type": "markdown",
   "id": "44474439-1a5e-487d-ae9a-eb5912aa50c6",
   "metadata": {},
   "source": [
    "### Loading dataset"
   ]
  },
  {
   "cell_type": "code",
   "execution_count": 10,
   "id": "0be28163-7732-401e-bced-fd41f7af6315",
   "metadata": {},
   "outputs": [
    {
     "data": {
      "text/html": [
       "<div>\n",
       "<style scoped>\n",
       "    .dataframe tbody tr th:only-of-type {\n",
       "        vertical-align: middle;\n",
       "    }\n",
       "\n",
       "    .dataframe tbody tr th {\n",
       "        vertical-align: top;\n",
       "    }\n",
       "\n",
       "    .dataframe thead th {\n",
       "        text-align: right;\n",
       "    }\n",
       "</style>\n",
       "<table border=\"1\" class=\"dataframe\">\n",
       "  <thead>\n",
       "    <tr style=\"text-align: right;\">\n",
       "      <th></th>\n",
       "      <th>Date/Time</th>\n",
       "      <th>Temp_C</th>\n",
       "      <th>Dew Point Temp_C</th>\n",
       "      <th>Rel Hum_%</th>\n",
       "      <th>Wind Speed_km/h</th>\n",
       "      <th>Visibility_km</th>\n",
       "      <th>Press_kPa</th>\n",
       "      <th>Weather</th>\n",
       "    </tr>\n",
       "  </thead>\n",
       "  <tbody>\n",
       "    <tr>\n",
       "      <th>0</th>\n",
       "      <td>1/1/2012 0:00</td>\n",
       "      <td>-1.8</td>\n",
       "      <td>-3.9</td>\n",
       "      <td>86</td>\n",
       "      <td>4</td>\n",
       "      <td>8.0</td>\n",
       "      <td>101.24</td>\n",
       "      <td>Fog</td>\n",
       "    </tr>\n",
       "    <tr>\n",
       "      <th>1</th>\n",
       "      <td>1/1/2012 1:00</td>\n",
       "      <td>-1.8</td>\n",
       "      <td>-3.7</td>\n",
       "      <td>87</td>\n",
       "      <td>4</td>\n",
       "      <td>8.0</td>\n",
       "      <td>101.24</td>\n",
       "      <td>Fog</td>\n",
       "    </tr>\n",
       "    <tr>\n",
       "      <th>2</th>\n",
       "      <td>1/1/2012 2:00</td>\n",
       "      <td>-1.8</td>\n",
       "      <td>-3.4</td>\n",
       "      <td>89</td>\n",
       "      <td>7</td>\n",
       "      <td>4.0</td>\n",
       "      <td>101.26</td>\n",
       "      <td>Freezing Drizzle,Fog</td>\n",
       "    </tr>\n",
       "    <tr>\n",
       "      <th>3</th>\n",
       "      <td>1/1/2012 3:00</td>\n",
       "      <td>-1.5</td>\n",
       "      <td>-3.2</td>\n",
       "      <td>88</td>\n",
       "      <td>6</td>\n",
       "      <td>4.0</td>\n",
       "      <td>101.27</td>\n",
       "      <td>Freezing Drizzle,Fog</td>\n",
       "    </tr>\n",
       "    <tr>\n",
       "      <th>4</th>\n",
       "      <td>1/1/2012 4:00</td>\n",
       "      <td>-1.5</td>\n",
       "      <td>-3.3</td>\n",
       "      <td>88</td>\n",
       "      <td>7</td>\n",
       "      <td>4.8</td>\n",
       "      <td>101.23</td>\n",
       "      <td>Fog</td>\n",
       "    </tr>\n",
       "  </tbody>\n",
       "</table>\n",
       "</div>"
      ],
      "text/plain": [
       "       Date/Time  Temp_C  Dew Point Temp_C  Rel Hum_%  Wind Speed_km/h  \\\n",
       "0  1/1/2012 0:00    -1.8              -3.9         86                4   \n",
       "1  1/1/2012 1:00    -1.8              -3.7         87                4   \n",
       "2  1/1/2012 2:00    -1.8              -3.4         89                7   \n",
       "3  1/1/2012 3:00    -1.5              -3.2         88                6   \n",
       "4  1/1/2012 4:00    -1.5              -3.3         88                7   \n",
       "\n",
       "   Visibility_km  Press_kPa               Weather  \n",
       "0            8.0     101.24                   Fog  \n",
       "1            8.0     101.24                   Fog  \n",
       "2            4.0     101.26  Freezing Drizzle,Fog  \n",
       "3            4.0     101.27  Freezing Drizzle,Fog  \n",
       "4            4.8     101.23                   Fog  "
      ]
     },
     "execution_count": 10,
     "metadata": {},
     "output_type": "execute_result"
    }
   ],
   "source": [
    "df = pd.read_csv(\"Dataset11-Weather-Data.csv\")\n",
    "df.head()"
   ]
  },
  {
   "cell_type": "code",
   "execution_count": 12,
   "id": "37b254d5-d501-42c6-b314-cd003c0722c1",
   "metadata": {},
   "outputs": [
    {
     "data": {
      "text/plain": [
       "(8784, 8)"
      ]
     },
     "execution_count": 12,
     "metadata": {},
     "output_type": "execute_result"
    }
   ],
   "source": [
    "df.shape"
   ]
  },
  {
   "cell_type": "code",
   "execution_count": 14,
   "id": "141c6116-b7bd-46ff-b1ee-803fb5bec5f2",
   "metadata": {},
   "outputs": [
    {
     "data": {
      "text/plain": [
       "Index(['Date/Time', 'Temp_C', 'Dew Point Temp_C', 'Rel Hum_%',\n",
       "       'Wind Speed_km/h', 'Visibility_km', 'Press_kPa', 'Weather'],\n",
       "      dtype='object')"
      ]
     },
     "execution_count": 14,
     "metadata": {},
     "output_type": "execute_result"
    }
   ],
   "source": [
    "df.columns"
   ]
  },
  {
   "cell_type": "code",
   "execution_count": 16,
   "id": "ee59d76c-be98-4898-86a1-715d6fb683b5",
   "metadata": {},
   "outputs": [
    {
     "data": {
      "text/plain": [
       "Date/Time            object\n",
       "Temp_C              float64\n",
       "Dew Point Temp_C    float64\n",
       "Rel Hum_%             int64\n",
       "Wind Speed_km/h       int64\n",
       "Visibility_km       float64\n",
       "Press_kPa           float64\n",
       "Weather              object\n",
       "dtype: object"
      ]
     },
     "execution_count": 16,
     "metadata": {},
     "output_type": "execute_result"
    }
   ],
   "source": [
    "df.dtypes"
   ]
  },
  {
   "cell_type": "code",
   "execution_count": 18,
   "id": "287e8c3c-76ae-41f0-b79f-4349a57432cd",
   "metadata": {},
   "outputs": [
    {
     "name": "stdout",
     "output_type": "stream",
     "text": [
      "<class 'pandas.core.frame.DataFrame'>\n",
      "RangeIndex: 8784 entries, 0 to 8783\n",
      "Data columns (total 8 columns):\n",
      " #   Column            Non-Null Count  Dtype  \n",
      "---  ------            --------------  -----  \n",
      " 0   Date/Time         8784 non-null   object \n",
      " 1   Temp_C            8784 non-null   float64\n",
      " 2   Dew Point Temp_C  8784 non-null   float64\n",
      " 3   Rel Hum_%         8784 non-null   int64  \n",
      " 4   Wind Speed_km/h   8784 non-null   int64  \n",
      " 5   Visibility_km     8784 non-null   float64\n",
      " 6   Press_kPa         8784 non-null   float64\n",
      " 7   Weather           8784 non-null   object \n",
      "dtypes: float64(4), int64(2), object(2)\n",
      "memory usage: 549.1+ KB\n"
     ]
    }
   ],
   "source": [
    "df.info()"
   ]
  },
  {
   "cell_type": "markdown",
   "id": "4e9d9e8b-b113-4216-8e08-80ef9c485eaf",
   "metadata": {},
   "source": [
    "### Types of Weather"
   ]
  },
  {
   "cell_type": "code",
   "execution_count": 21,
   "id": "bdc68616-b109-4aec-b843-f6f602ce0291",
   "metadata": {},
   "outputs": [
    {
     "data": {
      "text/plain": [
       "Weather\n",
       "Mainly Clear                               2106\n",
       "Mostly Cloudy                              2069\n",
       "Cloudy                                     1728\n",
       "Clear                                      1326\n",
       "Snow                                        390\n",
       "Rain                                        306\n",
       "Rain Showers                                188\n",
       "Fog                                         150\n",
       "Rain,Fog                                    116\n",
       "Drizzle,Fog                                  80\n",
       "Snow Showers                                 60\n",
       "Drizzle                                      41\n",
       "Snow,Fog                                     37\n",
       "Snow,Blowing Snow                            19\n",
       "Rain,Snow                                    18\n",
       "Thunderstorms,Rain Showers                   16\n",
       "Haze                                         16\n",
       "Drizzle,Snow,Fog                             15\n",
       "Freezing Rain                                14\n",
       "Freezing Drizzle,Snow                        11\n",
       "Freezing Drizzle                              7\n",
       "Snow,Ice Pellets                              6\n",
       "Freezing Drizzle,Fog                          6\n",
       "Snow,Haze                                     5\n",
       "Freezing Fog                                  4\n",
       "Snow Showers,Fog                              4\n",
       "Moderate Snow                                 4\n",
       "Rain,Snow,Ice Pellets                         4\n",
       "Freezing Rain,Fog                             4\n",
       "Freezing Drizzle,Haze                         3\n",
       "Rain,Haze                                     3\n",
       "Thunderstorms,Rain                            3\n",
       "Thunderstorms,Rain Showers,Fog                3\n",
       "Freezing Rain,Haze                            2\n",
       "Drizzle,Snow                                  2\n",
       "Rain Showers,Snow Showers                     2\n",
       "Thunderstorms                                 2\n",
       "Moderate Snow,Blowing Snow                    2\n",
       "Rain Showers,Fog                              1\n",
       "Thunderstorms,Moderate Rain Showers,Fog       1\n",
       "Snow Pellets                                  1\n",
       "Rain,Snow,Fog                                 1\n",
       "Moderate Rain,Fog                             1\n",
       "Freezing Rain,Ice Pellets,Fog                 1\n",
       "Drizzle,Ice Pellets,Fog                       1\n",
       "Thunderstorms,Rain,Fog                        1\n",
       "Rain,Ice Pellets                              1\n",
       "Rain,Snow Grains                              1\n",
       "Thunderstorms,Heavy Rain Showers              1\n",
       "Freezing Rain,Snow Grains                     1\n",
       "Name: count, dtype: int64"
      ]
     },
     "execution_count": 21,
     "metadata": {},
     "output_type": "execute_result"
    }
   ],
   "source": [
    "df.Weather.value_counts()"
   ]
  },
  {
   "cell_type": "code",
   "execution_count": 25,
   "id": "ffeceb50-47f4-421b-a7b9-c64404f658c8",
   "metadata": {},
   "outputs": [
    {
     "data": {
      "text/plain": [
       "array(['Fog', 'Freezing Drizzle,Fog', 'Mostly Cloudy', 'Cloudy', 'Rain',\n",
       "       'Rain Showers', 'Mainly Clear', 'Snow Showers', 'Snow', 'Clear',\n",
       "       'Freezing Rain,Fog', 'Freezing Rain', 'Freezing Drizzle',\n",
       "       'Rain,Snow', 'Moderate Snow', 'Freezing Drizzle,Snow',\n",
       "       'Freezing Rain,Snow Grains', 'Snow,Blowing Snow', 'Freezing Fog',\n",
       "       'Haze', 'Rain,Fog', 'Drizzle,Fog', 'Drizzle',\n",
       "       'Freezing Drizzle,Haze', 'Freezing Rain,Haze', 'Snow,Haze',\n",
       "       'Snow,Fog', 'Snow,Ice Pellets', 'Rain,Haze', 'Thunderstorms,Rain',\n",
       "       'Thunderstorms,Rain Showers', 'Thunderstorms,Heavy Rain Showers',\n",
       "       'Thunderstorms,Rain Showers,Fog', 'Thunderstorms',\n",
       "       'Thunderstorms,Rain,Fog',\n",
       "       'Thunderstorms,Moderate Rain Showers,Fog', 'Rain Showers,Fog',\n",
       "       'Rain Showers,Snow Showers', 'Snow Pellets', 'Rain,Snow,Fog',\n",
       "       'Moderate Rain,Fog', 'Freezing Rain,Ice Pellets,Fog',\n",
       "       'Drizzle,Ice Pellets,Fog', 'Drizzle,Snow', 'Rain,Ice Pellets',\n",
       "       'Drizzle,Snow,Fog', 'Rain,Snow Grains', 'Rain,Snow,Ice Pellets',\n",
       "       'Snow Showers,Fog', 'Moderate Snow,Blowing Snow'], dtype=object)"
      ]
     },
     "execution_count": 25,
     "metadata": {},
     "output_type": "execute_result"
    }
   ],
   "source": [
    "df.Weather.unique()"
   ]
  },
  {
   "cell_type": "code",
   "execution_count": 27,
   "id": "7d4a0c99-f5b1-43fe-be8a-165c9f05dcf5",
   "metadata": {},
   "outputs": [
    {
     "data": {
      "text/plain": [
       "50"
      ]
     },
     "execution_count": 27,
     "metadata": {},
     "output_type": "execute_result"
    }
   ],
   "source": [
    "df.Weather.nunique()"
   ]
  },
  {
   "cell_type": "markdown",
   "id": "1a37ebe3-2c88-4815-adb5-161fa76da117",
   "metadata": {},
   "source": [
    "### Converting the Weather Categories into Standard Categories"
   ]
  },
  {
   "cell_type": "code",
   "execution_count": 34,
   "id": "77a4be87-516f-4720-94fa-c2c20f743c5c",
   "metadata": {},
   "outputs": [],
   "source": [
    "x =  'Thunderstorms,Moderate Rain Showers,Fog'"
   ]
  },
  {
   "cell_type": "code",
   "execution_count": 36,
   "id": "8a0d9696-dfc4-4f74-a93b-f2ffec098413",
   "metadata": {},
   "outputs": [
    {
     "data": {
      "text/plain": [
       "[['Thunderstorms'], ['Moderate', 'Rain', 'Showers'], ['Fog']]"
      ]
     },
     "execution_count": 36,
     "metadata": {},
     "output_type": "execute_result"
    }
   ],
   "source": [
    "list_of_lists = [w.split() for w in x.split(',')]\n",
    "list_of_lists"
   ]
  },
  {
   "cell_type": "code",
   "execution_count": 38,
   "id": "fc052af0-6562-45b5-a99f-c77bbf3033ef",
   "metadata": {},
   "outputs": [
    {
     "data": {
      "text/plain": [
       "['Thunderstorms', 'Moderate', 'Rain', 'Showers', 'Fog']"
      ]
     },
     "execution_count": 38,
     "metadata": {},
     "output_type": "execute_result"
    }
   ],
   "source": [
    "from itertools import chain\n",
    "flat_list = list(chain(*list_of_lists))\n",
    "flat_list"
   ]
  },
  {
   "cell_type": "code",
   "execution_count": 46,
   "id": "3a18cccf-44ec-4b8e-bc81-2772ff8619ce",
   "metadata": {},
   "outputs": [],
   "source": [
    "def Create_list(x):\n",
    "    list_of_lists = [w.split() for w in x.split(',')]\n",
    "    flat_list = list(chain(*list_of_lists))\n",
    "    return flat_list\n",
    "\n",
    "\n",
    "def Get_Weather(list1):\n",
    "    if 'Fog' in list1 and 'Rain' in list1:\n",
    "        return 'RAIN+FOG'\n",
    "    elif 'Snow' in list1 and 'Rain' in list1:\n",
    "        return 'SNOW+RAIN'\n",
    "    elif 'Snow' in list1:\n",
    "        return 'SNOW'\n",
    "    elif 'Rain' in list1:\n",
    "        return 'RAIN'\n",
    "    elif 'Fog' in list1:\n",
    "        return 'FOG'\n",
    "    elif 'Clear' in list1:\n",
    "        return 'CLEAR'\n",
    "    elif 'Cloudy' in list1:\n",
    "        return 'CLOUDY'\n",
    "    else:\n",
    "        return 'RAIN'"
   ]
  },
  {
   "cell_type": "code",
   "execution_count": 44,
   "id": "9c153b6e-13a7-4354-af90-251f04719506",
   "metadata": {},
   "outputs": [
    {
     "data": {
      "text/plain": [
       "['Thunderstorms', 'Moderate', 'Rain', 'Showers', 'Fog']"
      ]
     },
     "execution_count": 44,
     "metadata": {},
     "output_type": "execute_result"
    }
   ],
   "source": [
    "Create_list(x)"
   ]
  },
  {
   "cell_type": "code",
   "execution_count": 50,
   "id": "c28782cd-c754-44c2-a148-b79a620d262f",
   "metadata": {},
   "outputs": [
    {
     "data": {
      "text/plain": [
       "'RAIN+FOG'"
      ]
     },
     "execution_count": 50,
     "metadata": {},
     "output_type": "execute_result"
    }
   ],
   "source": [
    "Get_Weather(Create_list(x))"
   ]
  },
  {
   "cell_type": "code",
   "execution_count": 52,
   "id": "1753bb8b-1b10-4d14-bf0b-5632c25534e8",
   "metadata": {},
   "outputs": [],
   "source": [
    "df['Std_Weather'] = df['Weather'].apply(lambda x : Get_Weather(Create_list(x)))"
   ]
  },
  {
   "cell_type": "code",
   "execution_count": 54,
   "id": "63f93ab8-b5f7-4f01-8ccb-52cf01500e44",
   "metadata": {},
   "outputs": [
    {
     "data": {
      "text/html": [
       "<div>\n",
       "<style scoped>\n",
       "    .dataframe tbody tr th:only-of-type {\n",
       "        vertical-align: middle;\n",
       "    }\n",
       "\n",
       "    .dataframe tbody tr th {\n",
       "        vertical-align: top;\n",
       "    }\n",
       "\n",
       "    .dataframe thead th {\n",
       "        text-align: right;\n",
       "    }\n",
       "</style>\n",
       "<table border=\"1\" class=\"dataframe\">\n",
       "  <thead>\n",
       "    <tr style=\"text-align: right;\">\n",
       "      <th></th>\n",
       "      <th>Date/Time</th>\n",
       "      <th>Temp_C</th>\n",
       "      <th>Dew Point Temp_C</th>\n",
       "      <th>Rel Hum_%</th>\n",
       "      <th>Wind Speed_km/h</th>\n",
       "      <th>Visibility_km</th>\n",
       "      <th>Press_kPa</th>\n",
       "      <th>Weather</th>\n",
       "      <th>Std_Weather</th>\n",
       "    </tr>\n",
       "  </thead>\n",
       "  <tbody>\n",
       "    <tr>\n",
       "      <th>0</th>\n",
       "      <td>1/1/2012 0:00</td>\n",
       "      <td>-1.8</td>\n",
       "      <td>-3.9</td>\n",
       "      <td>86</td>\n",
       "      <td>4</td>\n",
       "      <td>8.0</td>\n",
       "      <td>101.24</td>\n",
       "      <td>Fog</td>\n",
       "      <td>FOG</td>\n",
       "    </tr>\n",
       "    <tr>\n",
       "      <th>1</th>\n",
       "      <td>1/1/2012 1:00</td>\n",
       "      <td>-1.8</td>\n",
       "      <td>-3.7</td>\n",
       "      <td>87</td>\n",
       "      <td>4</td>\n",
       "      <td>8.0</td>\n",
       "      <td>101.24</td>\n",
       "      <td>Fog</td>\n",
       "      <td>FOG</td>\n",
       "    </tr>\n",
       "    <tr>\n",
       "      <th>2</th>\n",
       "      <td>1/1/2012 2:00</td>\n",
       "      <td>-1.8</td>\n",
       "      <td>-3.4</td>\n",
       "      <td>89</td>\n",
       "      <td>7</td>\n",
       "      <td>4.0</td>\n",
       "      <td>101.26</td>\n",
       "      <td>Freezing Drizzle,Fog</td>\n",
       "      <td>FOG</td>\n",
       "    </tr>\n",
       "    <tr>\n",
       "      <th>3</th>\n",
       "      <td>1/1/2012 3:00</td>\n",
       "      <td>-1.5</td>\n",
       "      <td>-3.2</td>\n",
       "      <td>88</td>\n",
       "      <td>6</td>\n",
       "      <td>4.0</td>\n",
       "      <td>101.27</td>\n",
       "      <td>Freezing Drizzle,Fog</td>\n",
       "      <td>FOG</td>\n",
       "    </tr>\n",
       "    <tr>\n",
       "      <th>4</th>\n",
       "      <td>1/1/2012 4:00</td>\n",
       "      <td>-1.5</td>\n",
       "      <td>-3.3</td>\n",
       "      <td>88</td>\n",
       "      <td>7</td>\n",
       "      <td>4.8</td>\n",
       "      <td>101.23</td>\n",
       "      <td>Fog</td>\n",
       "      <td>FOG</td>\n",
       "    </tr>\n",
       "  </tbody>\n",
       "</table>\n",
       "</div>"
      ],
      "text/plain": [
       "       Date/Time  Temp_C  Dew Point Temp_C  Rel Hum_%  Wind Speed_km/h  \\\n",
       "0  1/1/2012 0:00    -1.8              -3.9         86                4   \n",
       "1  1/1/2012 1:00    -1.8              -3.7         87                4   \n",
       "2  1/1/2012 2:00    -1.8              -3.4         89                7   \n",
       "3  1/1/2012 3:00    -1.5              -3.2         88                6   \n",
       "4  1/1/2012 4:00    -1.5              -3.3         88                7   \n",
       "\n",
       "   Visibility_km  Press_kPa               Weather Std_Weather  \n",
       "0            8.0     101.24                   Fog         FOG  \n",
       "1            8.0     101.24                   Fog         FOG  \n",
       "2            4.0     101.26  Freezing Drizzle,Fog         FOG  \n",
       "3            4.0     101.27  Freezing Drizzle,Fog         FOG  \n",
       "4            4.8     101.23                   Fog         FOG  "
      ]
     },
     "execution_count": 54,
     "metadata": {},
     "output_type": "execute_result"
    }
   ],
   "source": [
    "df.head()"
   ]
  },
  {
   "cell_type": "code",
   "execution_count": 56,
   "id": "f143deb6-92ac-450e-b398-7357074f4b98",
   "metadata": {},
   "outputs": [
    {
     "data": {
      "text/plain": [
       "Std_Weather\n",
       "CLOUDY       3797\n",
       "CLEAR        3432\n",
       "RAIN          603\n",
       "SNOW          556\n",
       "FOG           241\n",
       "RAIN+FOG      129\n",
       "SNOW+RAIN      26\n",
       "Name: count, dtype: int64"
      ]
     },
     "execution_count": 56,
     "metadata": {},
     "output_type": "execute_result"
    }
   ],
   "source": [
    "df.Std_Weather.value_counts()"
   ]
  },
  {
   "cell_type": "markdown",
   "id": "7c5d43b0-035f-4154-b327-a49259c6771b",
   "metadata": {},
   "source": [
    "### Sample selection and Data balancing"
   ]
  },
  {
   "cell_type": "code",
   "execution_count": 65,
   "id": "87c507b4-c048-4583-96b8-da6717ce872f",
   "metadata": {},
   "outputs": [
    {
     "data": {
      "text/html": [
       "<div>\n",
       "<style scoped>\n",
       "    .dataframe tbody tr th:only-of-type {\n",
       "        vertical-align: middle;\n",
       "    }\n",
       "\n",
       "    .dataframe tbody tr th {\n",
       "        vertical-align: top;\n",
       "    }\n",
       "\n",
       "    .dataframe thead th {\n",
       "        text-align: right;\n",
       "    }\n",
       "</style>\n",
       "<table border=\"1\" class=\"dataframe\">\n",
       "  <thead>\n",
       "    <tr style=\"text-align: right;\">\n",
       "      <th></th>\n",
       "      <th>Date/Time</th>\n",
       "      <th>Temp_C</th>\n",
       "      <th>Dew Point Temp_C</th>\n",
       "      <th>Rel Hum_%</th>\n",
       "      <th>Wind Speed_km/h</th>\n",
       "      <th>Visibility_km</th>\n",
       "      <th>Press_kPa</th>\n",
       "      <th>Weather</th>\n",
       "      <th>Std_Weather</th>\n",
       "    </tr>\n",
       "  </thead>\n",
       "  <tbody>\n",
       "    <tr>\n",
       "      <th>7967</th>\n",
       "      <td>11/27/2012 23:00</td>\n",
       "      <td>-3.8</td>\n",
       "      <td>-6.5</td>\n",
       "      <td>81</td>\n",
       "      <td>7</td>\n",
       "      <td>25.0</td>\n",
       "      <td>102.07</td>\n",
       "      <td>Mostly Cloudy</td>\n",
       "      <td>CLOUDY</td>\n",
       "    </tr>\n",
       "    <tr>\n",
       "      <th>5033</th>\n",
       "      <td>7/28/2012 17:00</td>\n",
       "      <td>26.2</td>\n",
       "      <td>10.6</td>\n",
       "      <td>38</td>\n",
       "      <td>17</td>\n",
       "      <td>48.3</td>\n",
       "      <td>101.10</td>\n",
       "      <td>Mostly Cloudy</td>\n",
       "      <td>CLOUDY</td>\n",
       "    </tr>\n",
       "    <tr>\n",
       "      <th>6610</th>\n",
       "      <td>10/2/2012 10:00</td>\n",
       "      <td>15.2</td>\n",
       "      <td>13.3</td>\n",
       "      <td>88</td>\n",
       "      <td>9</td>\n",
       "      <td>24.1</td>\n",
       "      <td>101.09</td>\n",
       "      <td>Cloudy</td>\n",
       "      <td>CLOUDY</td>\n",
       "    </tr>\n",
       "    <tr>\n",
       "      <th>7241</th>\n",
       "      <td>10/28/2012 17:00</td>\n",
       "      <td>12.7</td>\n",
       "      <td>6.3</td>\n",
       "      <td>65</td>\n",
       "      <td>26</td>\n",
       "      <td>25.0</td>\n",
       "      <td>101.01</td>\n",
       "      <td>Cloudy</td>\n",
       "      <td>CLOUDY</td>\n",
       "    </tr>\n",
       "    <tr>\n",
       "      <th>2821</th>\n",
       "      <td>4/27/2012 13:00</td>\n",
       "      <td>2.7</td>\n",
       "      <td>-5.0</td>\n",
       "      <td>57</td>\n",
       "      <td>37</td>\n",
       "      <td>24.1</td>\n",
       "      <td>100.76</td>\n",
       "      <td>Cloudy</td>\n",
       "      <td>CLOUDY</td>\n",
       "    </tr>\n",
       "    <tr>\n",
       "      <th>...</th>\n",
       "      <td>...</td>\n",
       "      <td>...</td>\n",
       "      <td>...</td>\n",
       "      <td>...</td>\n",
       "      <td>...</td>\n",
       "      <td>...</td>\n",
       "      <td>...</td>\n",
       "      <td>...</td>\n",
       "      <td>...</td>\n",
       "    </tr>\n",
       "    <tr>\n",
       "      <th>6300</th>\n",
       "      <td>9/19/2012 12:00</td>\n",
       "      <td>13.2</td>\n",
       "      <td>4.0</td>\n",
       "      <td>54</td>\n",
       "      <td>22</td>\n",
       "      <td>48.3</td>\n",
       "      <td>101.37</td>\n",
       "      <td>Mostly Cloudy</td>\n",
       "      <td>CLOUDY</td>\n",
       "    </tr>\n",
       "    <tr>\n",
       "      <th>5412</th>\n",
       "      <td>8/13/2012 12:00</td>\n",
       "      <td>23.8</td>\n",
       "      <td>17.4</td>\n",
       "      <td>67</td>\n",
       "      <td>17</td>\n",
       "      <td>24.1</td>\n",
       "      <td>100.85</td>\n",
       "      <td>Mostly Cloudy</td>\n",
       "      <td>CLOUDY</td>\n",
       "    </tr>\n",
       "    <tr>\n",
       "      <th>4087</th>\n",
       "      <td>6/19/2012 7:00</td>\n",
       "      <td>19.6</td>\n",
       "      <td>14.3</td>\n",
       "      <td>71</td>\n",
       "      <td>22</td>\n",
       "      <td>24.1</td>\n",
       "      <td>101.01</td>\n",
       "      <td>Mostly Cloudy</td>\n",
       "      <td>CLOUDY</td>\n",
       "    </tr>\n",
       "    <tr>\n",
       "      <th>7920</th>\n",
       "      <td>11/26/2012 0:00</td>\n",
       "      <td>-4.9</td>\n",
       "      <td>-10.1</td>\n",
       "      <td>67</td>\n",
       "      <td>9</td>\n",
       "      <td>25.0</td>\n",
       "      <td>100.52</td>\n",
       "      <td>Mostly Cloudy</td>\n",
       "      <td>CLOUDY</td>\n",
       "    </tr>\n",
       "    <tr>\n",
       "      <th>3922</th>\n",
       "      <td>6/12/2012 10:00</td>\n",
       "      <td>23.9</td>\n",
       "      <td>15.5</td>\n",
       "      <td>59</td>\n",
       "      <td>15</td>\n",
       "      <td>24.1</td>\n",
       "      <td>100.80</td>\n",
       "      <td>Mostly Cloudy</td>\n",
       "      <td>CLOUDY</td>\n",
       "    </tr>\n",
       "  </tbody>\n",
       "</table>\n",
       "<p>600 rows × 9 columns</p>\n",
       "</div>"
      ],
      "text/plain": [
       "             Date/Time  Temp_C  Dew Point Temp_C  Rel Hum_%  Wind Speed_km/h  \\\n",
       "7967  11/27/2012 23:00    -3.8              -6.5         81                7   \n",
       "5033   7/28/2012 17:00    26.2              10.6         38               17   \n",
       "6610   10/2/2012 10:00    15.2              13.3         88                9   \n",
       "7241  10/28/2012 17:00    12.7               6.3         65               26   \n",
       "2821   4/27/2012 13:00     2.7              -5.0         57               37   \n",
       "...                ...     ...               ...        ...              ...   \n",
       "6300   9/19/2012 12:00    13.2               4.0         54               22   \n",
       "5412   8/13/2012 12:00    23.8              17.4         67               17   \n",
       "4087    6/19/2012 7:00    19.6              14.3         71               22   \n",
       "7920   11/26/2012 0:00    -4.9             -10.1         67                9   \n",
       "3922   6/12/2012 10:00    23.9              15.5         59               15   \n",
       "\n",
       "      Visibility_km  Press_kPa        Weather Std_Weather  \n",
       "7967           25.0     102.07  Mostly Cloudy      CLOUDY  \n",
       "5033           48.3     101.10  Mostly Cloudy      CLOUDY  \n",
       "6610           24.1     101.09         Cloudy      CLOUDY  \n",
       "7241           25.0     101.01         Cloudy      CLOUDY  \n",
       "2821           24.1     100.76         Cloudy      CLOUDY  \n",
       "...             ...        ...            ...         ...  \n",
       "6300           48.3     101.37  Mostly Cloudy      CLOUDY  \n",
       "5412           24.1     100.85  Mostly Cloudy      CLOUDY  \n",
       "4087           24.1     101.01  Mostly Cloudy      CLOUDY  \n",
       "7920           25.0     100.52  Mostly Cloudy      CLOUDY  \n",
       "3922           24.1     100.80  Mostly Cloudy      CLOUDY  \n",
       "\n",
       "[600 rows x 9 columns]"
      ]
     },
     "execution_count": 65,
     "metadata": {},
     "output_type": "execute_result"
    }
   ],
   "source": [
    "cloudy_df = df[df['Std_Weather'] == 'CLOUDY'].sample(600)\n",
    "cloudy_df"
   ]
  },
  {
   "cell_type": "code",
   "execution_count": 67,
   "id": "5586f309-b291-4ea3-9be5-5e3ac4684dc7",
   "metadata": {},
   "outputs": [
    {
     "data": {
      "text/plain": [
       "(600, 9)"
      ]
     },
     "execution_count": 67,
     "metadata": {},
     "output_type": "execute_result"
    }
   ],
   "source": [
    "clear_df = df[df['Std_Weather'] == 'CLEAR'].sample(600)\n",
    "clear_df.shape"
   ]
  },
  {
   "cell_type": "markdown",
   "id": "a17230a3-4b51-4af4-97e0-71ae51fb4aff",
   "metadata": {},
   "source": [
    "### Dataset balancing"
   ]
  },
  {
   "cell_type": "code",
   "execution_count": 72,
   "id": "82faff66-2af5-4929-89a3-7fc043190555",
   "metadata": {},
   "outputs": [],
   "source": [
    "rain_df = df[df['Std_Weather'] == 'RAIN']\n",
    "snow_df = df[df['Std_Weather'] == 'SNOW']"
   ]
  },
  {
   "cell_type": "code",
   "execution_count": 74,
   "id": "917e40d8-8f61-4ecb-a64a-7045fc00da10",
   "metadata": {},
   "outputs": [
    {
     "data": {
      "text/plain": [
       "(603, 9)"
      ]
     },
     "execution_count": 74,
     "metadata": {},
     "output_type": "execute_result"
    }
   ],
   "source": [
    "rain_df.shape"
   ]
  },
  {
   "cell_type": "code",
   "execution_count": 76,
   "id": "98f99d76-5c86-498c-bd1b-bf5a53272dbe",
   "metadata": {},
   "outputs": [
    {
     "data": {
      "text/plain": [
       "(556, 9)"
      ]
     },
     "execution_count": 76,
     "metadata": {},
     "output_type": "execute_result"
    }
   ],
   "source": [
    "snow_df.shape"
   ]
  },
  {
   "cell_type": "markdown",
   "id": "dac40bde-6718-470c-9a75-fca3a562be26",
   "metadata": {},
   "source": [
    "### Create new weather dataset"
   ]
  },
  {
   "cell_type": "code",
   "execution_count": 81,
   "id": "6e6451aa-f585-4244-97bc-ed495cfaebb3",
   "metadata": {},
   "outputs": [
    {
     "data": {
      "text/plain": [
       "(2359, 9)"
      ]
     },
     "execution_count": 81,
     "metadata": {},
     "output_type": "execute_result"
    }
   ],
   "source": [
    "weather_df = pd.concat([cloudy_df, clear_df, rain_df, snow_df], axis = 0)\n",
    "weather_df.shape"
   ]
  },
  {
   "cell_type": "code",
   "execution_count": 83,
   "id": "40ba8897-1293-450d-998c-afd3c8d4471e",
   "metadata": {},
   "outputs": [
    {
     "data": {
      "text/html": [
       "<div>\n",
       "<style scoped>\n",
       "    .dataframe tbody tr th:only-of-type {\n",
       "        vertical-align: middle;\n",
       "    }\n",
       "\n",
       "    .dataframe tbody tr th {\n",
       "        vertical-align: top;\n",
       "    }\n",
       "\n",
       "    .dataframe thead th {\n",
       "        text-align: right;\n",
       "    }\n",
       "</style>\n",
       "<table border=\"1\" class=\"dataframe\">\n",
       "  <thead>\n",
       "    <tr style=\"text-align: right;\">\n",
       "      <th></th>\n",
       "      <th>Date/Time</th>\n",
       "      <th>Temp_C</th>\n",
       "      <th>Dew Point Temp_C</th>\n",
       "      <th>Rel Hum_%</th>\n",
       "      <th>Wind Speed_km/h</th>\n",
       "      <th>Visibility_km</th>\n",
       "      <th>Press_kPa</th>\n",
       "      <th>Weather</th>\n",
       "      <th>Std_Weather</th>\n",
       "    </tr>\n",
       "  </thead>\n",
       "  <tbody>\n",
       "    <tr>\n",
       "      <th>7967</th>\n",
       "      <td>11/27/2012 23:00</td>\n",
       "      <td>-3.8</td>\n",
       "      <td>-6.5</td>\n",
       "      <td>81</td>\n",
       "      <td>7</td>\n",
       "      <td>25.0</td>\n",
       "      <td>102.07</td>\n",
       "      <td>Mostly Cloudy</td>\n",
       "      <td>CLOUDY</td>\n",
       "    </tr>\n",
       "    <tr>\n",
       "      <th>5033</th>\n",
       "      <td>7/28/2012 17:00</td>\n",
       "      <td>26.2</td>\n",
       "      <td>10.6</td>\n",
       "      <td>38</td>\n",
       "      <td>17</td>\n",
       "      <td>48.3</td>\n",
       "      <td>101.10</td>\n",
       "      <td>Mostly Cloudy</td>\n",
       "      <td>CLOUDY</td>\n",
       "    </tr>\n",
       "    <tr>\n",
       "      <th>6610</th>\n",
       "      <td>10/2/2012 10:00</td>\n",
       "      <td>15.2</td>\n",
       "      <td>13.3</td>\n",
       "      <td>88</td>\n",
       "      <td>9</td>\n",
       "      <td>24.1</td>\n",
       "      <td>101.09</td>\n",
       "      <td>Cloudy</td>\n",
       "      <td>CLOUDY</td>\n",
       "    </tr>\n",
       "    <tr>\n",
       "      <th>7241</th>\n",
       "      <td>10/28/2012 17:00</td>\n",
       "      <td>12.7</td>\n",
       "      <td>6.3</td>\n",
       "      <td>65</td>\n",
       "      <td>26</td>\n",
       "      <td>25.0</td>\n",
       "      <td>101.01</td>\n",
       "      <td>Cloudy</td>\n",
       "      <td>CLOUDY</td>\n",
       "    </tr>\n",
       "    <tr>\n",
       "      <th>2821</th>\n",
       "      <td>4/27/2012 13:00</td>\n",
       "      <td>2.7</td>\n",
       "      <td>-5.0</td>\n",
       "      <td>57</td>\n",
       "      <td>37</td>\n",
       "      <td>24.1</td>\n",
       "      <td>100.76</td>\n",
       "      <td>Cloudy</td>\n",
       "      <td>CLOUDY</td>\n",
       "    </tr>\n",
       "  </tbody>\n",
       "</table>\n",
       "</div>"
      ],
      "text/plain": [
       "             Date/Time  Temp_C  Dew Point Temp_C  Rel Hum_%  Wind Speed_km/h  \\\n",
       "7967  11/27/2012 23:00    -3.8              -6.5         81                7   \n",
       "5033   7/28/2012 17:00    26.2              10.6         38               17   \n",
       "6610   10/2/2012 10:00    15.2              13.3         88                9   \n",
       "7241  10/28/2012 17:00    12.7               6.3         65               26   \n",
       "2821   4/27/2012 13:00     2.7              -5.0         57               37   \n",
       "\n",
       "      Visibility_km  Press_kPa        Weather Std_Weather  \n",
       "7967           25.0     102.07  Mostly Cloudy      CLOUDY  \n",
       "5033           48.3     101.10  Mostly Cloudy      CLOUDY  \n",
       "6610           24.1     101.09         Cloudy      CLOUDY  \n",
       "7241           25.0     101.01         Cloudy      CLOUDY  \n",
       "2821           24.1     100.76         Cloudy      CLOUDY  "
      ]
     },
     "execution_count": 83,
     "metadata": {},
     "output_type": "execute_result"
    }
   ],
   "source": [
    "weather_df.head()"
   ]
  },
  {
   "cell_type": "code",
   "execution_count": 87,
   "id": "4c763725-9547-4404-bee6-8191d999ccf0",
   "metadata": {},
   "outputs": [
    {
     "data": {
      "text/plain": [
       "Std_Weather\n",
       "RAIN      603\n",
       "CLOUDY    600\n",
       "CLEAR     600\n",
       "SNOW      556\n",
       "Name: count, dtype: int64"
      ]
     },
     "execution_count": 87,
     "metadata": {},
     "output_type": "execute_result"
    }
   ],
   "source": [
    "weather_df.Std_Weather.value_counts()"
   ]
  },
  {
   "cell_type": "markdown",
   "id": "df8772cf-f46c-437a-9842-2d941bdd24f4",
   "metadata": {},
   "source": [
    "### Drop columns Date and Weather"
   ]
  },
  {
   "cell_type": "code",
   "execution_count": 90,
   "id": "e253e10b-1bda-4797-bfe0-6213b7ccd24f",
   "metadata": {},
   "outputs": [],
   "source": [
    "weather_df.drop(columns = ['Date/Time', 'Weather'], axis = 1, inplace = True)"
   ]
  },
  {
   "cell_type": "code",
   "execution_count": 92,
   "id": "12a10ccb-5b12-4260-9acc-feb4d6dbb0f7",
   "metadata": {},
   "outputs": [
    {
     "data": {
      "text/html": [
       "<div>\n",
       "<style scoped>\n",
       "    .dataframe tbody tr th:only-of-type {\n",
       "        vertical-align: middle;\n",
       "    }\n",
       "\n",
       "    .dataframe tbody tr th {\n",
       "        vertical-align: top;\n",
       "    }\n",
       "\n",
       "    .dataframe thead th {\n",
       "        text-align: right;\n",
       "    }\n",
       "</style>\n",
       "<table border=\"1\" class=\"dataframe\">\n",
       "  <thead>\n",
       "    <tr style=\"text-align: right;\">\n",
       "      <th></th>\n",
       "      <th>Temp_C</th>\n",
       "      <th>Dew Point Temp_C</th>\n",
       "      <th>Rel Hum_%</th>\n",
       "      <th>Wind Speed_km/h</th>\n",
       "      <th>Visibility_km</th>\n",
       "      <th>Press_kPa</th>\n",
       "      <th>Std_Weather</th>\n",
       "    </tr>\n",
       "  </thead>\n",
       "  <tbody>\n",
       "    <tr>\n",
       "      <th>7967</th>\n",
       "      <td>-3.8</td>\n",
       "      <td>-6.5</td>\n",
       "      <td>81</td>\n",
       "      <td>7</td>\n",
       "      <td>25.0</td>\n",
       "      <td>102.07</td>\n",
       "      <td>CLOUDY</td>\n",
       "    </tr>\n",
       "    <tr>\n",
       "      <th>5033</th>\n",
       "      <td>26.2</td>\n",
       "      <td>10.6</td>\n",
       "      <td>38</td>\n",
       "      <td>17</td>\n",
       "      <td>48.3</td>\n",
       "      <td>101.10</td>\n",
       "      <td>CLOUDY</td>\n",
       "    </tr>\n",
       "    <tr>\n",
       "      <th>6610</th>\n",
       "      <td>15.2</td>\n",
       "      <td>13.3</td>\n",
       "      <td>88</td>\n",
       "      <td>9</td>\n",
       "      <td>24.1</td>\n",
       "      <td>101.09</td>\n",
       "      <td>CLOUDY</td>\n",
       "    </tr>\n",
       "    <tr>\n",
       "      <th>7241</th>\n",
       "      <td>12.7</td>\n",
       "      <td>6.3</td>\n",
       "      <td>65</td>\n",
       "      <td>26</td>\n",
       "      <td>25.0</td>\n",
       "      <td>101.01</td>\n",
       "      <td>CLOUDY</td>\n",
       "    </tr>\n",
       "    <tr>\n",
       "      <th>2821</th>\n",
       "      <td>2.7</td>\n",
       "      <td>-5.0</td>\n",
       "      <td>57</td>\n",
       "      <td>37</td>\n",
       "      <td>24.1</td>\n",
       "      <td>100.76</td>\n",
       "      <td>CLOUDY</td>\n",
       "    </tr>\n",
       "  </tbody>\n",
       "</table>\n",
       "</div>"
      ],
      "text/plain": [
       "      Temp_C  Dew Point Temp_C  Rel Hum_%  Wind Speed_km/h  Visibility_km  \\\n",
       "7967    -3.8              -6.5         81                7           25.0   \n",
       "5033    26.2              10.6         38               17           48.3   \n",
       "6610    15.2              13.3         88                9           24.1   \n",
       "7241    12.7               6.3         65               26           25.0   \n",
       "2821     2.7              -5.0         57               37           24.1   \n",
       "\n",
       "      Press_kPa Std_Weather  \n",
       "7967     102.07      CLOUDY  \n",
       "5033     101.10      CLOUDY  \n",
       "6610     101.09      CLOUDY  \n",
       "7241     101.01      CLOUDY  \n",
       "2821     100.76      CLOUDY  "
      ]
     },
     "execution_count": 92,
     "metadata": {},
     "output_type": "execute_result"
    }
   ],
   "source": [
    "weather_df.head()"
   ]
  },
  {
   "cell_type": "markdown",
   "id": "afa4143f-986b-425d-84f0-8e50af750874",
   "metadata": {},
   "source": [
    "## Duplicate Records"
   ]
  },
  {
   "cell_type": "code",
   "execution_count": 95,
   "id": "7edb085e-cdd1-469e-95db-c74a59553eb6",
   "metadata": {},
   "outputs": [
    {
     "data": {
      "text/html": [
       "<div>\n",
       "<style scoped>\n",
       "    .dataframe tbody tr th:only-of-type {\n",
       "        vertical-align: middle;\n",
       "    }\n",
       "\n",
       "    .dataframe tbody tr th {\n",
       "        vertical-align: top;\n",
       "    }\n",
       "\n",
       "    .dataframe thead th {\n",
       "        text-align: right;\n",
       "    }\n",
       "</style>\n",
       "<table border=\"1\" class=\"dataframe\">\n",
       "  <thead>\n",
       "    <tr style=\"text-align: right;\">\n",
       "      <th></th>\n",
       "      <th>Temp_C</th>\n",
       "      <th>Dew Point Temp_C</th>\n",
       "      <th>Rel Hum_%</th>\n",
       "      <th>Wind Speed_km/h</th>\n",
       "      <th>Visibility_km</th>\n",
       "      <th>Press_kPa</th>\n",
       "      <th>Std_Weather</th>\n",
       "    </tr>\n",
       "  </thead>\n",
       "  <tbody>\n",
       "  </tbody>\n",
       "</table>\n",
       "</div>"
      ],
      "text/plain": [
       "Empty DataFrame\n",
       "Columns: [Temp_C, Dew Point Temp_C, Rel Hum_%, Wind Speed_km/h, Visibility_km, Press_kPa, Std_Weather]\n",
       "Index: []"
      ]
     },
     "execution_count": 95,
     "metadata": {},
     "output_type": "execute_result"
    }
   ],
   "source": [
    "weather_df[weather_df.duplicated()]"
   ]
  },
  {
   "cell_type": "markdown",
   "id": "84cc0059-f9de-45f4-97ca-b3a69bf3aa95",
   "metadata": {},
   "source": [
    "### Null/Missing values"
   ]
  },
  {
   "cell_type": "code",
   "execution_count": 100,
   "id": "ba06070b-3e2e-475e-9d10-91f4e4c64957",
   "metadata": {},
   "outputs": [
    {
     "data": {
      "text/plain": [
       "Temp_C              0\n",
       "Dew Point Temp_C    0\n",
       "Rel Hum_%           0\n",
       "Wind Speed_km/h     0\n",
       "Visibility_km       0\n",
       "Press_kPa           0\n",
       "Std_Weather         0\n",
       "dtype: int64"
      ]
     },
     "execution_count": 100,
     "metadata": {},
     "output_type": "execute_result"
    }
   ],
   "source": [
    "weather_df.isnull().sum()"
   ]
  },
  {
   "cell_type": "code",
   "execution_count": 103,
   "id": "da92edc5-78d4-42e6-a358-a7da1a1ef35b",
   "metadata": {},
   "outputs": [
    {
     "data": {
      "text/plain": [
       "Temp_C              float64\n",
       "Dew Point Temp_C    float64\n",
       "Rel Hum_%             int64\n",
       "Wind Speed_km/h       int64\n",
       "Visibility_km       float64\n",
       "Press_kPa           float64\n",
       "Std_Weather          object\n",
       "dtype: object"
      ]
     },
     "execution_count": 103,
     "metadata": {},
     "output_type": "execute_result"
    }
   ],
   "source": [
    "weather_df.dtypes"
   ]
  },
  {
   "cell_type": "markdown",
   "id": "ae624814-a91a-4604-befc-b258a383f366",
   "metadata": {},
   "source": [
    "### Data Visualisation"
   ]
  },
  {
   "cell_type": "code",
   "execution_count": 108,
   "id": "0fc09845-9993-4753-86b1-ec11fefe877e",
   "metadata": {},
   "outputs": [
    {
     "data": {
      "text/html": [
       "<div>\n",
       "<style scoped>\n",
       "    .dataframe tbody tr th:only-of-type {\n",
       "        vertical-align: middle;\n",
       "    }\n",
       "\n",
       "    .dataframe tbody tr th {\n",
       "        vertical-align: top;\n",
       "    }\n",
       "\n",
       "    .dataframe thead th {\n",
       "        text-align: right;\n",
       "    }\n",
       "</style>\n",
       "<table border=\"1\" class=\"dataframe\">\n",
       "  <thead>\n",
       "    <tr style=\"text-align: right;\">\n",
       "      <th></th>\n",
       "      <th>Temp_C</th>\n",
       "      <th>Dew Point Temp_C</th>\n",
       "      <th>Rel Hum_%</th>\n",
       "      <th>Wind Speed_km/h</th>\n",
       "      <th>Visibility_km</th>\n",
       "      <th>Press_kPa</th>\n",
       "    </tr>\n",
       "  </thead>\n",
       "  <tbody>\n",
       "    <tr>\n",
       "      <th>count</th>\n",
       "      <td>2359.000000</td>\n",
       "      <td>2359.000000</td>\n",
       "      <td>2359.000000</td>\n",
       "      <td>2359.000000</td>\n",
       "      <td>2359.000000</td>\n",
       "      <td>2359.000000</td>\n",
       "    </tr>\n",
       "    <tr>\n",
       "      <th>mean</th>\n",
       "      <td>6.602671</td>\n",
       "      <td>1.614328</td>\n",
       "      <td>72.616363</td>\n",
       "      <td>16.446799</td>\n",
       "      <td>23.241882</td>\n",
       "      <td>100.815155</td>\n",
       "    </tr>\n",
       "    <tr>\n",
       "      <th>std</th>\n",
       "      <td>11.309453</td>\n",
       "      <td>10.505350</td>\n",
       "      <td>15.637131</td>\n",
       "      <td>9.356185</td>\n",
       "      <td>12.767063</td>\n",
       "      <td>0.923292</td>\n",
       "    </tr>\n",
       "    <tr>\n",
       "      <th>min</th>\n",
       "      <td>-21.400000</td>\n",
       "      <td>-26.600000</td>\n",
       "      <td>18.000000</td>\n",
       "      <td>0.000000</td>\n",
       "      <td>0.600000</td>\n",
       "      <td>97.520000</td>\n",
       "    </tr>\n",
       "    <tr>\n",
       "      <th>25%</th>\n",
       "      <td>-3.000000</td>\n",
       "      <td>-6.900000</td>\n",
       "      <td>62.000000</td>\n",
       "      <td>9.000000</td>\n",
       "      <td>16.100000</td>\n",
       "      <td>100.300000</td>\n",
       "    </tr>\n",
       "    <tr>\n",
       "      <th>50%</th>\n",
       "      <td>5.300000</td>\n",
       "      <td>0.400000</td>\n",
       "      <td>76.000000</td>\n",
       "      <td>15.000000</td>\n",
       "      <td>24.100000</td>\n",
       "      <td>100.840000</td>\n",
       "    </tr>\n",
       "    <tr>\n",
       "      <th>75%</th>\n",
       "      <td>16.300000</td>\n",
       "      <td>10.700000</td>\n",
       "      <td>85.000000</td>\n",
       "      <td>22.000000</td>\n",
       "      <td>25.000000</td>\n",
       "      <td>101.410000</td>\n",
       "    </tr>\n",
       "    <tr>\n",
       "      <th>max</th>\n",
       "      <td>33.000000</td>\n",
       "      <td>23.100000</td>\n",
       "      <td>99.000000</td>\n",
       "      <td>57.000000</td>\n",
       "      <td>48.300000</td>\n",
       "      <td>103.610000</td>\n",
       "    </tr>\n",
       "  </tbody>\n",
       "</table>\n",
       "</div>"
      ],
      "text/plain": [
       "            Temp_C  Dew Point Temp_C    Rel Hum_%  Wind Speed_km/h  \\\n",
       "count  2359.000000       2359.000000  2359.000000      2359.000000   \n",
       "mean      6.602671          1.614328    72.616363        16.446799   \n",
       "std      11.309453         10.505350    15.637131         9.356185   \n",
       "min     -21.400000        -26.600000    18.000000         0.000000   \n",
       "25%      -3.000000         -6.900000    62.000000         9.000000   \n",
       "50%       5.300000          0.400000    76.000000        15.000000   \n",
       "75%      16.300000         10.700000    85.000000        22.000000   \n",
       "max      33.000000         23.100000    99.000000        57.000000   \n",
       "\n",
       "       Visibility_km    Press_kPa  \n",
       "count    2359.000000  2359.000000  \n",
       "mean       23.241882   100.815155  \n",
       "std        12.767063     0.923292  \n",
       "min         0.600000    97.520000  \n",
       "25%        16.100000   100.300000  \n",
       "50%        24.100000   100.840000  \n",
       "75%        25.000000   101.410000  \n",
       "max        48.300000   103.610000  "
      ]
     },
     "execution_count": 108,
     "metadata": {},
     "output_type": "execute_result"
    }
   ],
   "source": [
    "weather_df.describe()"
   ]
  },
  {
   "cell_type": "markdown",
   "id": "93c3bd7c-1363-4973-a57b-1e999a1f16b1",
   "metadata": {},
   "source": [
    "### Correlation among features"
   ]
  },
  {
   "cell_type": "code",
   "execution_count": 115,
   "id": "a38d2940-7ce4-416f-bb99-d3aa23258ae9",
   "metadata": {},
   "outputs": [],
   "source": [
    "cols = ['Temp_C', 'Dew Point Temp_C', 'Rel Hum_%', 'Wind Speed_km/h', 'Visibility_km', 'Press_kPa']"
   ]
  },
  {
   "cell_type": "code",
   "execution_count": 122,
   "id": "8e75ada5-81b1-4eeb-8a66-671395f8fa20",
   "metadata": {},
   "outputs": [
    {
     "data": {
      "text/html": [
       "<div>\n",
       "<style scoped>\n",
       "    .dataframe tbody tr th:only-of-type {\n",
       "        vertical-align: middle;\n",
       "    }\n",
       "\n",
       "    .dataframe tbody tr th {\n",
       "        vertical-align: top;\n",
       "    }\n",
       "\n",
       "    .dataframe thead th {\n",
       "        text-align: right;\n",
       "    }\n",
       "</style>\n",
       "<table border=\"1\" class=\"dataframe\">\n",
       "  <thead>\n",
       "    <tr style=\"text-align: right;\">\n",
       "      <th></th>\n",
       "      <th>Temp_C</th>\n",
       "      <th>Dew Point Temp_C</th>\n",
       "      <th>Rel Hum_%</th>\n",
       "      <th>Wind Speed_km/h</th>\n",
       "      <th>Visibility_km</th>\n",
       "      <th>Press_kPa</th>\n",
       "    </tr>\n",
       "  </thead>\n",
       "  <tbody>\n",
       "    <tr>\n",
       "      <th>Temp_C</th>\n",
       "      <td>1.000000</td>\n",
       "      <td>0.945165</td>\n",
       "      <td>-0.233148</td>\n",
       "      <td>-0.130977</td>\n",
       "      <td>0.391417</td>\n",
       "      <td>-0.095543</td>\n",
       "    </tr>\n",
       "    <tr>\n",
       "      <th>Dew Point Temp_C</th>\n",
       "      <td>0.945165</td>\n",
       "      <td>1.000000</td>\n",
       "      <td>0.091329</td>\n",
       "      <td>-0.121228</td>\n",
       "      <td>0.200300</td>\n",
       "      <td>-0.202121</td>\n",
       "    </tr>\n",
       "    <tr>\n",
       "      <th>Rel Hum_%</th>\n",
       "      <td>-0.233148</td>\n",
       "      <td>0.091329</td>\n",
       "      <td>1.000000</td>\n",
       "      <td>0.044055</td>\n",
       "      <td>-0.625478</td>\n",
       "      <td>-0.332864</td>\n",
       "    </tr>\n",
       "    <tr>\n",
       "      <th>Wind Speed_km/h</th>\n",
       "      <td>-0.130977</td>\n",
       "      <td>-0.121228</td>\n",
       "      <td>0.044055</td>\n",
       "      <td>1.000000</td>\n",
       "      <td>-0.171974</td>\n",
       "      <td>-0.400475</td>\n",
       "    </tr>\n",
       "    <tr>\n",
       "      <th>Visibility_km</th>\n",
       "      <td>0.391417</td>\n",
       "      <td>0.200300</td>\n",
       "      <td>-0.625478</td>\n",
       "      <td>-0.171974</td>\n",
       "      <td>1.000000</td>\n",
       "      <td>0.335368</td>\n",
       "    </tr>\n",
       "    <tr>\n",
       "      <th>Press_kPa</th>\n",
       "      <td>-0.095543</td>\n",
       "      <td>-0.202121</td>\n",
       "      <td>-0.332864</td>\n",
       "      <td>-0.400475</td>\n",
       "      <td>0.335368</td>\n",
       "      <td>1.000000</td>\n",
       "    </tr>\n",
       "  </tbody>\n",
       "</table>\n",
       "</div>"
      ],
      "text/plain": [
       "                    Temp_C  Dew Point Temp_C  Rel Hum_%  Wind Speed_km/h  \\\n",
       "Temp_C            1.000000          0.945165  -0.233148        -0.130977   \n",
       "Dew Point Temp_C  0.945165          1.000000   0.091329        -0.121228   \n",
       "Rel Hum_%        -0.233148          0.091329   1.000000         0.044055   \n",
       "Wind Speed_km/h  -0.130977         -0.121228   0.044055         1.000000   \n",
       "Visibility_km     0.391417          0.200300  -0.625478        -0.171974   \n",
       "Press_kPa        -0.095543         -0.202121  -0.332864        -0.400475   \n",
       "\n",
       "                  Visibility_km  Press_kPa  \n",
       "Temp_C                 0.391417  -0.095543  \n",
       "Dew Point Temp_C       0.200300  -0.202121  \n",
       "Rel Hum_%             -0.625478  -0.332864  \n",
       "Wind Speed_km/h       -0.171974  -0.400475  \n",
       "Visibility_km          1.000000   0.335368  \n",
       "Press_kPa              0.335368   1.000000  "
      ]
     },
     "execution_count": 122,
     "metadata": {},
     "output_type": "execute_result"
    }
   ],
   "source": [
    "cor_matrix = weather_df[cols].corr()\n",
    "cor_matrix"
   ]
  },
  {
   "cell_type": "markdown",
   "id": "c51ee95b-eb87-4b97-a30b-b134c5bec5cb",
   "metadata": {},
   "source": [
    "### Heatmap"
   ]
  },
  {
   "cell_type": "code",
   "execution_count": 125,
   "id": "f0a90e83-da7f-4701-9173-5b15f34ec28b",
   "metadata": {},
   "outputs": [
    {
     "data": {
      "text/plain": [
       "<Axes: >"
      ]
     },
     "execution_count": 125,
     "metadata": {},
     "output_type": "execute_result"
    },
    {
     "data": {
      "image/png": "[encoded data removed]",
      "text/plain": [
       "<Figure size 640x480 with 2 Axes>"
      ]
     },
     "metadata": {},
     "output_type": "display_data"
    }
   ],
   "source": [
    "sns.heatmap(cor_matrix, annot = True)"
   ]
  },
  {
   "cell_type": "code",
   "execution_count": 127,
   "id": "8e8fe54e-0a6b-450e-ae61-1e86e3e11bbe",
   "metadata": {},
   "outputs": [
    {
     "data": {
      "text/plain": [
       "Index(['Temp_C', 'Dew Point Temp_C', 'Rel Hum_%', 'Wind Speed_km/h',\n",
       "       'Visibility_km', 'Press_kPa', 'Std_Weather'],\n",
       "      dtype='object')"
      ]
     },
     "execution_count": 127,
     "metadata": {},
     "output_type": "execute_result"
    }
   ],
   "source": [
    "weather_df.columns"
   ]
  },
  {
   "cell_type": "code",
   "execution_count": 129,
   "id": "9074f17e-0d8c-41ff-ab02-1b2772b3fcae",
   "metadata": {},
   "outputs": [
    {
     "data": {
      "text/plain": [
       "<Axes: ylabel='Frequency'>"
      ]
     },
     "execution_count": 129,
     "metadata": {},
     "output_type": "execute_result"
    },
    {
     "data": {
      "image/png": "[encoded data removed]",
      "text/plain": [
       "<Figure size 640x480 with 1 Axes>"
      ]
     },
     "metadata": {},
     "output_type": "display_data"
    }
   ],
   "source": [
    "weather_df['Temp_C'].plot(kind = 'hist')"
   ]
  },
  {
   "cell_type": "code",
   "execution_count": 131,
   "id": "96ca6f4c-5a56-4474-9d9d-cefafc1ed290",
   "metadata": {},
   "outputs": [
    {
     "data": {
      "text/plain": [
       "<Axes: ylabel='Frequency'>"
      ]
     },
     "execution_count": 131,
     "metadata": {},
     "output_type": "execute_result"
    },
    {
     "data": {
      "image/png": "[encoded data removed]",
      "text/plain": [
       "<Figure size 640x480 with 1 Axes>"
      ]
     },
     "metadata": {},
     "output_type": "display_data"
    }
   ],
   "source": [
    "weather_df['Dew Point Temp_C'].plot(kind = 'hist')"
   ]
  },
  {
   "cell_type": "code",
   "execution_count": 133,
   "id": "3943a12c-b92f-4416-b01d-9049b832572c",
   "metadata": {},
   "outputs": [
    {
     "data": {
      "text/plain": [
       "<Axes: ylabel='Frequency'>"
      ]
     },
     "execution_count": 133,
     "metadata": {},
     "output_type": "execute_result"
    },
    {
     "data": {
      "image/png": "[encoded data removed]",
      "text/plain": [
       "<Figure size 640x480 with 1 Axes>"
      ]
     },
     "metadata": {},
     "output_type": "display_data"
    }
   ],
   "source": [
    "weather_df['Rel Hum_%'].plot(kind = 'hist')"
   ]
  },
  {
   "cell_type": "code",
   "execution_count": 135,
   "id": "a1ac91be-bcb5-4d90-b254-f67b7970397c",
   "metadata": {},
   "outputs": [
    {
     "data": {
      "text/plain": [
       "<Axes: ylabel='Frequency'>"
      ]
     },
     "execution_count": 135,
     "metadata": {},
     "output_type": "execute_result"
    },
    {
     "data": {
      "image/png": "[encoded data removed]",
      "text/plain": [
       "<Figure size 640x480 with 1 Axes>"
      ]
     },
     "metadata": {},
     "output_type": "display_data"
    }
   ],
   "source": [
    "weather_df['Wind Speed_km/h'].plot(kind = 'hist')"
   ]
  },
  {
   "cell_type": "code",
   "execution_count": 137,
   "id": "725c8ee5-10a6-4dee-a2a1-77a98927272a",
   "metadata": {},
   "outputs": [
    {
     "data": {
      "text/plain": [
       "<Axes: ylabel='Frequency'>"
      ]
     },
     "execution_count": 137,
     "metadata": {},
     "output_type": "execute_result"
    },
    {
     "data": {
      "image/png": "[encoded data removed]",
      "text/plain": [
       "<Figure size 640x480 with 1 Axes>"
      ]
     },
     "metadata": {},
     "output_type": "display_data"
    }
   ],
   "source": [
    "weather_df['Visibility_km'].plot(kind = 'hist')"
   ]
  },
  {
   "cell_type": "code",
   "execution_count": 139,
   "id": "0f4618df-f41f-40bd-bfe4-627bc4f18891",
   "metadata": {},
   "outputs": [
    {
     "data": {
      "text/plain": [
       "<Axes: >"
      ]
     },
     "execution_count": 139,
     "metadata": {},
     "output_type": "execute_result"
    },
    {
     "data": {
      "image/png": "[encoded data removed]",
      "text/plain": [
       "<Figure size 640x480 with 1 Axes>"
      ]
     },
     "metadata": {},
     "output_type": "display_data"
    }
   ],
   "source": [
    "weather_df['Visibility_km'].plot(kind = 'box')"
   ]
  },
  {
   "cell_type": "code",
   "execution_count": 141,
   "id": "c3a21279-8cbc-4ce0-b144-da01548c307c",
   "metadata": {},
   "outputs": [
    {
     "data": {
      "text/plain": [
       "<Axes: >"
      ]
     },
     "execution_count": 141,
     "metadata": {},
     "output_type": "execute_result"
    },
    {
     "data": {
      "image/png": "[encoded data removed]",
      "text/plain": [
       "<Figure size 640x480 with 1 Axes>"
      ]
     },
     "metadata": {},
     "output_type": "display_data"
    }
   ],
   "source": [
    "weather_df['Wind Speed_km/h'].plot(kind = 'box')"
   ]
  },
  {
   "cell_type": "code",
   "execution_count": 143,
   "id": "40e327e2-a5f6-4d64-83ee-8cd69573ef5b",
   "metadata": {},
   "outputs": [
    {
     "data": {
      "text/html": [
       "<div>\n",
       "<style scoped>\n",
       "    .dataframe tbody tr th:only-of-type {\n",
       "        vertical-align: middle;\n",
       "    }\n",
       "\n",
       "    .dataframe tbody tr th {\n",
       "        vertical-align: top;\n",
       "    }\n",
       "\n",
       "    .dataframe thead th {\n",
       "        text-align: right;\n",
       "    }\n",
       "</style>\n",
       "<table border=\"1\" class=\"dataframe\">\n",
       "  <thead>\n",
       "    <tr style=\"text-align: right;\">\n",
       "      <th></th>\n",
       "      <th>Temp_C</th>\n",
       "      <th>Dew Point Temp_C</th>\n",
       "      <th>Rel Hum_%</th>\n",
       "      <th>Wind Speed_km/h</th>\n",
       "      <th>Visibility_km</th>\n",
       "      <th>Press_kPa</th>\n",
       "      <th>Std_Weather</th>\n",
       "    </tr>\n",
       "  </thead>\n",
       "  <tbody>\n",
       "    <tr>\n",
       "      <th>7967</th>\n",
       "      <td>-3.8</td>\n",
       "      <td>-6.5</td>\n",
       "      <td>81</td>\n",
       "      <td>7</td>\n",
       "      <td>25.0</td>\n",
       "      <td>102.07</td>\n",
       "      <td>CLOUDY</td>\n",
       "    </tr>\n",
       "    <tr>\n",
       "      <th>5033</th>\n",
       "      <td>26.2</td>\n",
       "      <td>10.6</td>\n",
       "      <td>38</td>\n",
       "      <td>17</td>\n",
       "      <td>48.3</td>\n",
       "      <td>101.10</td>\n",
       "      <td>CLOUDY</td>\n",
       "    </tr>\n",
       "    <tr>\n",
       "      <th>6610</th>\n",
       "      <td>15.2</td>\n",
       "      <td>13.3</td>\n",
       "      <td>88</td>\n",
       "      <td>9</td>\n",
       "      <td>24.1</td>\n",
       "      <td>101.09</td>\n",
       "      <td>CLOUDY</td>\n",
       "    </tr>\n",
       "    <tr>\n",
       "      <th>7241</th>\n",
       "      <td>12.7</td>\n",
       "      <td>6.3</td>\n",
       "      <td>65</td>\n",
       "      <td>26</td>\n",
       "      <td>25.0</td>\n",
       "      <td>101.01</td>\n",
       "      <td>CLOUDY</td>\n",
       "    </tr>\n",
       "    <tr>\n",
       "      <th>2821</th>\n",
       "      <td>2.7</td>\n",
       "      <td>-5.0</td>\n",
       "      <td>57</td>\n",
       "      <td>37</td>\n",
       "      <td>24.1</td>\n",
       "      <td>100.76</td>\n",
       "      <td>CLOUDY</td>\n",
       "    </tr>\n",
       "  </tbody>\n",
       "</table>\n",
       "</div>"
      ],
      "text/plain": [
       "      Temp_C  Dew Point Temp_C  Rel Hum_%  Wind Speed_km/h  Visibility_km  \\\n",
       "7967    -3.8              -6.5         81                7           25.0   \n",
       "5033    26.2              10.6         38               17           48.3   \n",
       "6610    15.2              13.3         88                9           24.1   \n",
       "7241    12.7               6.3         65               26           25.0   \n",
       "2821     2.7              -5.0         57               37           24.1   \n",
       "\n",
       "      Press_kPa Std_Weather  \n",
       "7967     102.07      CLOUDY  \n",
       "5033     101.10      CLOUDY  \n",
       "6610     101.09      CLOUDY  \n",
       "7241     101.01      CLOUDY  \n",
       "2821     100.76      CLOUDY  "
      ]
     },
     "execution_count": 143,
     "metadata": {},
     "output_type": "execute_result"
    }
   ],
   "source": [
    "weather_df.head()"
   ]
  },
  {
   "cell_type": "markdown",
   "id": "3c632647-3128-4580-ad7c-1c7a7dd7eef6",
   "metadata": {},
   "source": [
    "### Label Encoding\n",
    "    converting target variable into numeric"
   ]
  },
  {
   "cell_type": "code",
   "execution_count": 146,
   "id": "efec9559-7889-46ba-a3b6-b4c6477f2094",
   "metadata": {},
   "outputs": [],
   "source": [
    "from sklearn.preprocessing import LabelEncoder as LE"
   ]
  },
  {
   "cell_type": "code",
   "execution_count": 148,
   "id": "481b0fda-a721-4923-807d-f99be87f1ae9",
   "metadata": {},
   "outputs": [],
   "source": [
    "le = LE()"
   ]
  },
  {
   "cell_type": "code",
   "execution_count": 152,
   "id": "686b57e7-8c16-45b7-92ec-b3a690c7f16c",
   "metadata": {},
   "outputs": [],
   "source": [
    "weather_df['Std_Weather'] = le.fit_transform(weather_df['Std_Weather'])"
   ]
  },
  {
   "cell_type": "code",
   "execution_count": 154,
   "id": "ef14e87f-3633-465c-854d-68c1982e7b64",
   "metadata": {},
   "outputs": [
    {
     "data": {
      "text/plain": [
       "array(['CLEAR', 'CLOUDY', 'RAIN', 'SNOW'], dtype=object)"
      ]
     },
     "execution_count": 154,
     "metadata": {},
     "output_type": "execute_result"
    }
   ],
   "source": [
    "le.classes_"
   ]
  },
  {
   "cell_type": "code",
   "execution_count": 156,
   "id": "bfd47861-db11-44c9-ba92-cb17eb233998",
   "metadata": {},
   "outputs": [
    {
     "data": {
      "text/html": [
       "<div>\n",
       "<style scoped>\n",
       "    .dataframe tbody tr th:only-of-type {\n",
       "        vertical-align: middle;\n",
       "    }\n",
       "\n",
       "    .dataframe tbody tr th {\n",
       "        vertical-align: top;\n",
       "    }\n",
       "\n",
       "    .dataframe thead th {\n",
       "        text-align: right;\n",
       "    }\n",
       "</style>\n",
       "<table border=\"1\" class=\"dataframe\">\n",
       "  <thead>\n",
       "    <tr style=\"text-align: right;\">\n",
       "      <th></th>\n",
       "      <th>Temp_C</th>\n",
       "      <th>Dew Point Temp_C</th>\n",
       "      <th>Rel Hum_%</th>\n",
       "      <th>Wind Speed_km/h</th>\n",
       "      <th>Visibility_km</th>\n",
       "      <th>Press_kPa</th>\n",
       "      <th>Std_Weather</th>\n",
       "    </tr>\n",
       "  </thead>\n",
       "  <tbody>\n",
       "    <tr>\n",
       "      <th>7967</th>\n",
       "      <td>-3.8</td>\n",
       "      <td>-6.5</td>\n",
       "      <td>81</td>\n",
       "      <td>7</td>\n",
       "      <td>25.0</td>\n",
       "      <td>102.07</td>\n",
       "      <td>1</td>\n",
       "    </tr>\n",
       "    <tr>\n",
       "      <th>5033</th>\n",
       "      <td>26.2</td>\n",
       "      <td>10.6</td>\n",
       "      <td>38</td>\n",
       "      <td>17</td>\n",
       "      <td>48.3</td>\n",
       "      <td>101.10</td>\n",
       "      <td>1</td>\n",
       "    </tr>\n",
       "    <tr>\n",
       "      <th>6610</th>\n",
       "      <td>15.2</td>\n",
       "      <td>13.3</td>\n",
       "      <td>88</td>\n",
       "      <td>9</td>\n",
       "      <td>24.1</td>\n",
       "      <td>101.09</td>\n",
       "      <td>1</td>\n",
       "    </tr>\n",
       "    <tr>\n",
       "      <th>7241</th>\n",
       "      <td>12.7</td>\n",
       "      <td>6.3</td>\n",
       "      <td>65</td>\n",
       "      <td>26</td>\n",
       "      <td>25.0</td>\n",
       "      <td>101.01</td>\n",
       "      <td>1</td>\n",
       "    </tr>\n",
       "    <tr>\n",
       "      <th>2821</th>\n",
       "      <td>2.7</td>\n",
       "      <td>-5.0</td>\n",
       "      <td>57</td>\n",
       "      <td>37</td>\n",
       "      <td>24.1</td>\n",
       "      <td>100.76</td>\n",
       "      <td>1</td>\n",
       "    </tr>\n",
       "  </tbody>\n",
       "</table>\n",
       "</div>"
      ],
      "text/plain": [
       "      Temp_C  Dew Point Temp_C  Rel Hum_%  Wind Speed_km/h  Visibility_km  \\\n",
       "7967    -3.8              -6.5         81                7           25.0   \n",
       "5033    26.2              10.6         38               17           48.3   \n",
       "6610    15.2              13.3         88                9           24.1   \n",
       "7241    12.7               6.3         65               26           25.0   \n",
       "2821     2.7              -5.0         57               37           24.1   \n",
       "\n",
       "      Press_kPa  Std_Weather  \n",
       "7967     102.07            1  \n",
       "5033     101.10            1  \n",
       "6610     101.09            1  \n",
       "7241     101.01            1  \n",
       "2821     100.76            1  "
      ]
     },
     "execution_count": 156,
     "metadata": {},
     "output_type": "execute_result"
    }
   ],
   "source": [
    "weather_df.head()"
   ]
  },
  {
   "cell_type": "code",
   "execution_count": 158,
   "id": "934f2b85-2c65-42ba-94d8-00b09497829b",
   "metadata": {},
   "outputs": [
    {
     "data": {
      "text/plain": [
       "Std_Weather\n",
       "2    603\n",
       "1    600\n",
       "0    600\n",
       "3    556\n",
       "Name: count, dtype: int64"
      ]
     },
     "execution_count": 158,
     "metadata": {},
     "output_type": "execute_result"
    }
   ],
   "source": [
    "weather_df.Std_Weather.value_counts()"
   ]
  },
  {
   "cell_type": "markdown",
   "id": "b5dd1abd-6483-4cfb-a224-ed649f76c405",
   "metadata": {},
   "source": [
    "### Separating Dependent and Independent variables"
   ]
  },
  {
   "cell_type": "code",
   "execution_count": 161,
   "id": "e26206ff-db0b-4b20-a03e-70ec47c69059",
   "metadata": {},
   "outputs": [
    {
     "data": {
      "text/html": [
       "<div>\n",
       "<style scoped>\n",
       "    .dataframe tbody tr th:only-of-type {\n",
       "        vertical-align: middle;\n",
       "    }\n",
       "\n",
       "    .dataframe tbody tr th {\n",
       "        vertical-align: top;\n",
       "    }\n",
       "\n",
       "    .dataframe thead th {\n",
       "        text-align: right;\n",
       "    }\n",
       "</style>\n",
       "<table border=\"1\" class=\"dataframe\">\n",
       "  <thead>\n",
       "    <tr style=\"text-align: right;\">\n",
       "      <th></th>\n",
       "      <th>Temp_C</th>\n",
       "      <th>Dew Point Temp_C</th>\n",
       "      <th>Rel Hum_%</th>\n",
       "      <th>Wind Speed_km/h</th>\n",
       "      <th>Visibility_km</th>\n",
       "      <th>Press_kPa</th>\n",
       "    </tr>\n",
       "  </thead>\n",
       "  <tbody>\n",
       "    <tr>\n",
       "      <th>7967</th>\n",
       "      <td>-3.8</td>\n",
       "      <td>-6.5</td>\n",
       "      <td>81</td>\n",
       "      <td>7</td>\n",
       "      <td>25.0</td>\n",
       "      <td>102.07</td>\n",
       "    </tr>\n",
       "    <tr>\n",
       "      <th>5033</th>\n",
       "      <td>26.2</td>\n",
       "      <td>10.6</td>\n",
       "      <td>38</td>\n",
       "      <td>17</td>\n",
       "      <td>48.3</td>\n",
       "      <td>101.10</td>\n",
       "    </tr>\n",
       "    <tr>\n",
       "      <th>6610</th>\n",
       "      <td>15.2</td>\n",
       "      <td>13.3</td>\n",
       "      <td>88</td>\n",
       "      <td>9</td>\n",
       "      <td>24.1</td>\n",
       "      <td>101.09</td>\n",
       "    </tr>\n",
       "    <tr>\n",
       "      <th>7241</th>\n",
       "      <td>12.7</td>\n",
       "      <td>6.3</td>\n",
       "      <td>65</td>\n",
       "      <td>26</td>\n",
       "      <td>25.0</td>\n",
       "      <td>101.01</td>\n",
       "    </tr>\n",
       "    <tr>\n",
       "      <th>2821</th>\n",
       "      <td>2.7</td>\n",
       "      <td>-5.0</td>\n",
       "      <td>57</td>\n",
       "      <td>37</td>\n",
       "      <td>24.1</td>\n",
       "      <td>100.76</td>\n",
       "    </tr>\n",
       "    <tr>\n",
       "      <th>...</th>\n",
       "      <td>...</td>\n",
       "      <td>...</td>\n",
       "      <td>...</td>\n",
       "      <td>...</td>\n",
       "      <td>...</td>\n",
       "      <td>...</td>\n",
       "    </tr>\n",
       "    <tr>\n",
       "      <th>8779</th>\n",
       "      <td>0.1</td>\n",
       "      <td>-2.7</td>\n",
       "      <td>81</td>\n",
       "      <td>30</td>\n",
       "      <td>9.7</td>\n",
       "      <td>100.13</td>\n",
       "    </tr>\n",
       "    <tr>\n",
       "      <th>8780</th>\n",
       "      <td>0.2</td>\n",
       "      <td>-2.4</td>\n",
       "      <td>83</td>\n",
       "      <td>24</td>\n",
       "      <td>9.7</td>\n",
       "      <td>100.03</td>\n",
       "    </tr>\n",
       "    <tr>\n",
       "      <th>8781</th>\n",
       "      <td>-0.5</td>\n",
       "      <td>-1.5</td>\n",
       "      <td>93</td>\n",
       "      <td>28</td>\n",
       "      <td>4.8</td>\n",
       "      <td>99.95</td>\n",
       "    </tr>\n",
       "    <tr>\n",
       "      <th>8782</th>\n",
       "      <td>-0.2</td>\n",
       "      <td>-1.8</td>\n",
       "      <td>89</td>\n",
       "      <td>28</td>\n",
       "      <td>9.7</td>\n",
       "      <td>99.91</td>\n",
       "    </tr>\n",
       "    <tr>\n",
       "      <th>8783</th>\n",
       "      <td>0.0</td>\n",
       "      <td>-2.1</td>\n",
       "      <td>86</td>\n",
       "      <td>30</td>\n",
       "      <td>11.3</td>\n",
       "      <td>99.89</td>\n",
       "    </tr>\n",
       "  </tbody>\n",
       "</table>\n",
       "<p>2359 rows × 6 columns</p>\n",
       "</div>"
      ],
      "text/plain": [
       "      Temp_C  Dew Point Temp_C  Rel Hum_%  Wind Speed_km/h  Visibility_km  \\\n",
       "7967    -3.8              -6.5         81                7           25.0   \n",
       "5033    26.2              10.6         38               17           48.3   \n",
       "6610    15.2              13.3         88                9           24.1   \n",
       "7241    12.7               6.3         65               26           25.0   \n",
       "2821     2.7              -5.0         57               37           24.1   \n",
       "...      ...               ...        ...              ...            ...   \n",
       "8779     0.1              -2.7         81               30            9.7   \n",
       "8780     0.2              -2.4         83               24            9.7   \n",
       "8781    -0.5              -1.5         93               28            4.8   \n",
       "8782    -0.2              -1.8         89               28            9.7   \n",
       "8783     0.0              -2.1         86               30           11.3   \n",
       "\n",
       "      Press_kPa  \n",
       "7967     102.07  \n",
       "5033     101.10  \n",
       "6610     101.09  \n",
       "7241     101.01  \n",
       "2821     100.76  \n",
       "...         ...  \n",
       "8779     100.13  \n",
       "8780     100.03  \n",
       "8781      99.95  \n",
       "8782      99.91  \n",
       "8783      99.89  \n",
       "\n",
       "[2359 rows x 6 columns]"
      ]
     },
     "execution_count": 161,
     "metadata": {},
     "output_type": "execute_result"
    }
   ],
   "source": [
    "X = weather_df.drop(['Std_Weather'], axis = 1)\n",
    "X"
   ]
  },
  {
   "cell_type": "code",
   "execution_count": 165,
   "id": "ea6c1ea2-2606-4c13-abce-640b74181d32",
   "metadata": {},
   "outputs": [
    {
     "data": {
      "text/plain": [
       "7967    1\n",
       "5033    1\n",
       "6610    1\n",
       "7241    1\n",
       "2821    1\n",
       "       ..\n",
       "8779    3\n",
       "8780    3\n",
       "8781    3\n",
       "8782    3\n",
       "8783    3\n",
       "Name: Std_Weather, Length: 2359, dtype: int32"
      ]
     },
     "execution_count": 165,
     "metadata": {},
     "output_type": "execute_result"
    }
   ],
   "source": [
    "y = weather_df['Std_Weather']\n",
    "y"
   ]
  },
  {
   "cell_type": "markdown",
   "id": "1a1b6157-ad79-4067-98ea-8f671d739a0e",
   "metadata": {},
   "source": [
    "### Feature Scaling"
   ]
  },
  {
   "cell_type": "code",
   "execution_count": 168,
   "id": "f4507aaa-f46e-46bb-ba50-9a0f57d6cda1",
   "metadata": {},
   "outputs": [],
   "source": [
    "from sklearn.preprocessing import StandardScaler as SS"
   ]
  },
  {
   "cell_type": "code",
   "execution_count": 170,
   "id": "b771872e-2215-4c00-b209-1793ba1e322d",
   "metadata": {},
   "outputs": [],
   "source": [
    "scaler = SS()"
   ]
  },
  {
   "cell_type": "code",
   "execution_count": 172,
   "id": "455846fc-1e75-4192-b84c-8d24c4e0992b",
   "metadata": {},
   "outputs": [
    {
     "data": {
      "text/plain": [
       "array([[-0.92001586, -0.77256338,  0.53625022, -1.00989905,  0.13773651,\n",
       "         1.35938663],\n",
       "       [ 1.73319473,  0.85552383, -2.21419795,  0.05913925,  1.96313211,\n",
       "         0.30857578],\n",
       "       [ 0.76035084,  1.11259023,  0.98399759, -0.79609139,  0.06722766,\n",
       "         0.29774268],\n",
       "       ...,\n",
       "       [-0.6281627 , -0.29651449,  1.30381715,  1.23508139, -1.44479531,\n",
       "        -0.9372309 ],\n",
       "       [-0.60163059, -0.32507742,  1.0479615 ,  1.23508139, -1.06091383,\n",
       "        -0.98056331],\n",
       "       [-0.58394252, -0.35364036,  0.85606977,  1.44888905, -0.93556477,\n",
       "        -1.00222951]])"
      ]
     },
     "execution_count": 172,
     "metadata": {},
     "output_type": "execute_result"
    }
   ],
   "source": [
    "X_std = scaler.fit_transform(X)\n",
    "X_std"
   ]
  },
  {
   "cell_type": "markdown",
   "id": "d1099076-436f-47fa-b79a-cd70950f20c0",
   "metadata": {},
   "source": [
    "### Splitting the dataset into Training and Testing Subsets"
   ]
  },
  {
   "cell_type": "code",
   "execution_count": 175,
   "id": "b8cb4f61-e591-4e5d-be0c-0985c41d1a6f",
   "metadata": {},
   "outputs": [],
   "source": [
    "from sklearn.model_selection import train_test_split as tts"
   ]
  },
  {
   "cell_type": "code",
   "execution_count": 177,
   "id": "92b7d8e4-5df1-4aa1-bb12-aa28335e4591",
   "metadata": {},
   "outputs": [],
   "source": [
    "X_train, X_test, y_train, y_test = tts(X_std, y, test_size = 0.2, random_state = 42)"
   ]
  },
  {
   "cell_type": "code",
   "execution_count": 179,
   "id": "fb5a421d-f3e7-4536-9a9c-aa959c772958",
   "metadata": {},
   "outputs": [
    {
     "data": {
      "text/plain": [
       "((1887, 6), (472, 6), (1887,), (472,))"
      ]
     },
     "execution_count": 179,
     "metadata": {},
     "output_type": "execute_result"
    }
   ],
   "source": [
    "X_train.shape, X_test.shape, y_train.shape, y_test.shape"
   ]
  },
  {
   "cell_type": "markdown",
   "id": "66a7c92e-783e-4197-8992-b469d75e3319",
   "metadata": {},
   "source": [
    "### Model Building"
   ]
  },
  {
   "cell_type": "code",
   "execution_count": 228,
   "id": "79dcbbf5-4890-4b80-b7b0-f13278cdabc6",
   "metadata": {},
   "outputs": [],
   "source": [
    "from sklearn.tree import DecisionTreeClassifier as DTC\n",
    "model = DTC(criterion = 'entropy', random_state = 42)"
   ]
  },
  {
   "cell_type": "markdown",
   "id": "a534f23f-74e9-400f-872f-37390b664e9d",
   "metadata": {},
   "source": [
    "### Model Training"
   ]
  },
  {
   "cell_type": "code",
   "execution_count": 231,
   "id": "e47f2a95-fe07-4206-b887-f97d8ca6ece3",
   "metadata": {},
   "outputs": [
    {
     "data": {
      "text/html": [
       "<style>#sk-container-id-4 {\n",
       "  /* Definition of color scheme common for light and dark mode */\n",
       "  --sklearn-color-text: black;\n",
       "  --sklearn-color-line: gray;\n",
       "  /* Definition of color scheme for unfitted estimators */\n",
       "  --sklearn-color-unfitted-level-0: #fff5e6;\n",
       "  --sklearn-color-unfitted-level-1: #f6e4d2;\n",
       "  --sklearn-color-unfitted-level-2: #ffe0b3;\n",
       "  --sklearn-color-unfitted-level-3: chocolate;\n",
       "  /* Definition of color scheme for fitted estimators */\n",
       "  --sklearn-color-fitted-level-0: #f0f8ff;\n",
       "  --sklearn-color-fitted-level-1: #d4ebff;\n",
       "  --sklearn-color-fitted-level-2: #b3dbfd;\n",
       "  --sklearn-color-fitted-level-3: cornflowerblue;\n",
       "\n",
       "  /* Specific color for light theme */\n",
       "  --sklearn-color-text-on-default-background: var(--sg-text-color, var(--theme-code-foreground, var(--jp-content-font-color1, black)));\n",
       "  --sklearn-color-background: var(--sg-background-color, var(--theme-background, var(--jp-layout-color0, white)));\n",
       "  --sklearn-color-border-box: var(--sg-text-color, var(--theme-code-foreground, var(--jp-content-font-color1, black)));\n",
       "  --sklearn-color-icon: #696969;\n",
       "\n",
       "  @media (prefers-color-scheme: dark) {\n",
       "    /* Redefinition of color scheme for dark theme */\n",
       "    --sklearn-color-text-on-default-background: var(--sg-text-color, var(--theme-code-foreground, var(--jp-content-font-color1, white)));\n",
       "    --sklearn-color-background: var(--sg-background-color, var(--theme-background, var(--jp-layout-color0, #111)));\n",
       "    --sklearn-color-border-box: var(--sg-text-color, var(--theme-code-foreground, var(--jp-content-font-color1, white)));\n",
       "    --sklearn-color-icon: #878787;\n",
       "  }\n",
       "}\n",
       "\n",
       "#sk-container-id-4 {\n",
       "  color: var(--sklearn-color-text);\n",
       "}\n",
       "\n",
       "#sk-container-id-4 pre {\n",
       "  padding: 0;\n",
       "}\n",
       "\n",
       "#sk-container-id-4 input.sk-hidden--visually {\n",
       "  border: 0;\n",
       "  clip: rect(1px 1px 1px 1px);\n",
       "  clip: rect(1px, 1px, 1px, 1px);\n",
       "  height: 1px;\n",
       "  margin: -1px;\n",
       "  overflow: hidden;\n",
       "  padding: 0;\n",
       "  position: absolute;\n",
       "  width: 1px;\n",
       "}\n",
       "\n",
       "#sk-container-id-4 div.sk-dashed-wrapped {\n",
       "  border: 1px dashed var(--sklearn-color-line);\n",
       "  margin: 0 0.4em 0.5em 0.4em;\n",
       "  box-sizing: border-box;\n",
       "  padding-bottom: 0.4em;\n",
       "  background-color: var(--sklearn-color-background);\n",
       "}\n",
       "\n",
       "#sk-container-id-4 div.sk-container {\n",
       "  /* jupyter's `normalize.less` sets `[hidden] { display: none; }`\n",
       "     but bootstrap.min.css set `[hidden] { display: none !important; }`\n",
       "     so we also need the `!important` here to be able to override the\n",
       "     default hidden behavior on the sphinx rendered scikit-learn.org.\n",
       "     See: https://github.com/scikit-learn/scikit-learn/issues/21755 */\n",
       "  display: inline-block !important;\n",
       "  position: relative;\n",
       "}\n",
       "\n",
       "#sk-container-id-4 div.sk-text-repr-fallback {\n",
       "  display: none;\n",
       "}\n",
       "\n",
       "div.sk-parallel-item,\n",
       "div.sk-serial,\n",
       "div.sk-item {\n",
       "  /* draw centered vertical line to link estimators */\n",
       "  background-image: linear-gradient(var(--sklearn-color-text-on-default-background), var(--sklearn-color-text-on-default-background));\n",
       "  background-size: 2px 100%;\n",
       "  background-repeat: no-repeat;\n",
       "  background-position: center center;\n",
       "}\n",
       "\n",
       "/* Parallel-specific style estimator block */\n",
       "\n",
       "#sk-container-id-4 div.sk-parallel-item::after {\n",
       "  content: \"\";\n",
       "  width: 100%;\n",
       "  border-bottom: 2px solid var(--sklearn-color-text-on-default-background);\n",
       "  flex-grow: 1;\n",
       "}\n",
       "\n",
       "#sk-container-id-4 div.sk-parallel {\n",
       "  display: flex;\n",
       "  align-items: stretch;\n",
       "  justify-content: center;\n",
       "  background-color: var(--sklearn-color-background);\n",
       "  position: relative;\n",
       "}\n",
       "\n",
       "#sk-container-id-4 div.sk-parallel-item {\n",
       "  display: flex;\n",
       "  flex-direction: column;\n",
       "}\n",
       "\n",
       "#sk-container-id-4 div.sk-parallel-item:first-child::after {\n",
       "  align-self: flex-end;\n",
       "  width: 50%;\n",
       "}\n",
       "\n",
       "#sk-container-id-4 div.sk-parallel-item:last-child::after {\n",
       "  align-self: flex-start;\n",
       "  width: 50%;\n",
       "}\n",
       "\n",
       "#sk-container-id-4 div.sk-parallel-item:only-child::after {\n",
       "  width: 0;\n",
       "}\n",
       "\n",
       "/* Serial-specific style estimator block */\n",
       "\n",
       "#sk-container-id-4 div.sk-serial {\n",
       "  display: flex;\n",
       "  flex-direction: column;\n",
       "  align-items: center;\n",
       "  background-color: var(--sklearn-color-background);\n",
       "  padding-right: 1em;\n",
       "  padding-left: 1em;\n",
       "}\n",
       "\n",
       "\n",
       "/* Toggleable style: style used for estimator/Pipeline/ColumnTransformer box that is\n",
       "clickable and can be expanded/collapsed.\n",
       "- Pipeline and ColumnTransformer use this feature and define the default style\n",
       "- Estimators will overwrite some part of the style using the `sk-estimator` class\n",
       "*/\n",
       "\n",
       "/* Pipeline and ColumnTransformer style (default) */\n",
       "\n",
       "#sk-container-id-4 div.sk-toggleable {\n",
       "  /* Default theme specific background. It is overwritten whether we have a\n",
       "  specific estimator or a Pipeline/ColumnTransformer */\n",
       "  background-color: var(--sklearn-color-background);\n",
       "}\n",
       "\n",
       "/* Toggleable label */\n",
       "#sk-container-id-4 label.sk-toggleable__label {\n",
       "  cursor: pointer;\n",
       "  display: block;\n",
       "  width: 100%;\n",
       "  margin-bottom: 0;\n",
       "  padding: 0.5em;\n",
       "  box-sizing: border-box;\n",
       "  text-align: center;\n",
       "}\n",
       "\n",
       "#sk-container-id-4 label.sk-toggleable__label-arrow:before {\n",
       "  /* Arrow on the left of the label */\n",
       "  content: \"▸\";\n",
       "  float: left;\n",
       "  margin-right: 0.25em;\n",
       "  color: var(--sklearn-color-icon);\n",
       "}\n",
       "\n",
       "#sk-container-id-4 label.sk-toggleable__label-arrow:hover:before {\n",
       "  color: var(--sklearn-color-text);\n",
       "}\n",
       "\n",
       "/* Toggleable content - dropdown */\n",
       "\n",
       "#sk-container-id-4 div.sk-toggleable__content {\n",
       "  max-height: 0;\n",
       "  max-width: 0;\n",
       "  overflow: hidden;\n",
       "  text-align: left;\n",
       "  /* unfitted */\n",
       "  background-color: var(--sklearn-color-unfitted-level-0);\n",
       "}\n",
       "\n",
       "#sk-container-id-4 div.sk-toggleable__content.fitted {\n",
       "  /* fitted */\n",
       "  background-color: var(--sklearn-color-fitted-level-0);\n",
       "}\n",
       "\n",
       "#sk-container-id-4 div.sk-toggleable__content pre {\n",
       "  margin: 0.2em;\n",
       "  border-radius: 0.25em;\n",
       "  color: var(--sklearn-color-text);\n",
       "  /* unfitted */\n",
       "  background-color: var(--sklearn-color-unfitted-level-0);\n",
       "}\n",
       "\n",
       "#sk-container-id-4 div.sk-toggleable__content.fitted pre {\n",
       "  /* unfitted */\n",
       "  background-color: var(--sklearn-color-fitted-level-0);\n",
       "}\n",
       "\n",
       "#sk-container-id-4 input.sk-toggleable__control:checked~div.sk-toggleable__content {\n",
       "  /* Expand drop-down */\n",
       "  max-height: 200px;\n",
       "  max-width: 100%;\n",
       "  overflow: auto;\n",
       "}\n",
       "\n",
       "#sk-container-id-4 input.sk-toggleable__control:checked~label.sk-toggleable__label-arrow:before {\n",
       "  content: \"▾\";\n",
       "}\n",
       "\n",
       "/* Pipeline/ColumnTransformer-specific style */\n",
       "\n",
       "#sk-container-id-4 div.sk-label input.sk-toggleable__control:checked~label.sk-toggleable__label {\n",
       "  color: var(--sklearn-color-text);\n",
       "  background-color: var(--sklearn-color-unfitted-level-2);\n",
       "}\n",
       "\n",
       "#sk-container-id-4 div.sk-label.fitted input.sk-toggleable__control:checked~label.sk-toggleable__label {\n",
       "  background-color: var(--sklearn-color-fitted-level-2);\n",
       "}\n",
       "\n",
       "/* Estimator-specific style */\n",
       "\n",
       "/* Colorize estimator box */\n",
       "#sk-container-id-4 div.sk-estimator input.sk-toggleable__control:checked~label.sk-toggleable__label {\n",
       "  /* unfitted */\n",
       "  background-color: var(--sklearn-color-unfitted-level-2);\n",
       "}\n",
       "\n",
       "#sk-container-id-4 div.sk-estimator.fitted input.sk-toggleable__control:checked~label.sk-toggleable__label {\n",
       "  /* fitted */\n",
       "  background-color: var(--sklearn-color-fitted-level-2);\n",
       "}\n",
       "\n",
       "#sk-container-id-4 div.sk-label label.sk-toggleable__label,\n",
       "#sk-container-id-4 div.sk-label label {\n",
       "  /* The background is the default theme color */\n",
       "  color: var(--sklearn-color-text-on-default-background);\n",
       "}\n",
       "\n",
       "/* On hover, darken the color of the background */\n",
       "#sk-container-id-4 div.sk-label:hover label.sk-toggleable__label {\n",
       "  color: var(--sklearn-color-text);\n",
       "  background-color: var(--sklearn-color-unfitted-level-2);\n",
       "}\n",
       "\n",
       "/* Label box, darken color on hover, fitted */\n",
       "#sk-container-id-4 div.sk-label.fitted:hover label.sk-toggleable__label.fitted {\n",
       "  color: var(--sklearn-color-text);\n",
       "  background-color: var(--sklearn-color-fitted-level-2);\n",
       "}\n",
       "\n",
       "/* Estimator label */\n",
       "\n",
       "#sk-container-id-4 div.sk-label label {\n",
       "  font-family: monospace;\n",
       "  font-weight: bold;\n",
       "  display: inline-block;\n",
       "  line-height: 1.2em;\n",
       "}\n",
       "\n",
       "#sk-container-id-4 div.sk-label-container {\n",
       "  text-align: center;\n",
       "}\n",
       "\n",
       "/* Estimator-specific */\n",
       "#sk-container-id-4 div.sk-estimator {\n",
       "  font-family: monospace;\n",
       "  border: 1px dotted var(--sklearn-color-border-box);\n",
       "  border-radius: 0.25em;\n",
       "  box-sizing: border-box;\n",
       "  margin-bottom: 0.5em;\n",
       "  /* unfitted */\n",
       "  background-color: var(--sklearn-color-unfitted-level-0);\n",
       "}\n",
       "\n",
       "#sk-container-id-4 div.sk-estimator.fitted {\n",
       "  /* fitted */\n",
       "  background-color: var(--sklearn-color-fitted-level-0);\n",
       "}\n",
       "\n",
       "/* on hover */\n",
       "#sk-container-id-4 div.sk-estimator:hover {\n",
       "  /* unfitted */\n",
       "  background-color: var(--sklearn-color-unfitted-level-2);\n",
       "}\n",
       "\n",
       "#sk-container-id-4 div.sk-estimator.fitted:hover {\n",
       "  /* fitted */\n",
       "  background-color: var(--sklearn-color-fitted-level-2);\n",
       "}\n",
       "\n",
       "/* Specification for estimator info (e.g. \"i\" and \"?\") */\n",
       "\n",
       "/* Common style for \"i\" and \"?\" */\n",
       "\n",
       ".sk-estimator-doc-link,\n",
       "a:link.sk-estimator-doc-link,\n",
       "a:visited.sk-estimator-doc-link {\n",
       "  float: right;\n",
       "  font-size: smaller;\n",
       "  line-height: 1em;\n",
       "  font-family: monospace;\n",
       "  background-color: var(--sklearn-color-background);\n",
       "  border-radius: 1em;\n",
       "  height: 1em;\n",
       "  width: 1em;\n",
       "  text-decoration: none !important;\n",
       "  margin-left: 1ex;\n",
       "  /* unfitted */\n",
       "  border: var(--sklearn-color-unfitted-level-1) 1pt solid;\n",
       "  color: var(--sklearn-color-unfitted-level-1);\n",
       "}\n",
       "\n",
       ".sk-estimator-doc-link.fitted,\n",
       "a:link.sk-estimator-doc-link.fitted,\n",
       "a:visited.sk-estimator-doc-link.fitted {\n",
       "  /* fitted */\n",
       "  border: var(--sklearn-color-fitted-level-1) 1pt solid;\n",
       "  color: var(--sklearn-color-fitted-level-1);\n",
       "}\n",
       "\n",
       "/* On hover */\n",
       "div.sk-estimator:hover .sk-estimator-doc-link:hover,\n",
       ".sk-estimator-doc-link:hover,\n",
       "div.sk-label-container:hover .sk-estimator-doc-link:hover,\n",
       ".sk-estimator-doc-link:hover {\n",
       "  /* unfitted */\n",
       "  background-color: var(--sklearn-color-unfitted-level-3);\n",
       "  color: var(--sklearn-color-background);\n",
       "  text-decoration: none;\n",
       "}\n",
       "\n",
       "div.sk-estimator.fitted:hover .sk-estimator-doc-link.fitted:hover,\n",
       ".sk-estimator-doc-link.fitted:hover,\n",
       "div.sk-label-container:hover .sk-estimator-doc-link.fitted:hover,\n",
       ".sk-estimator-doc-link.fitted:hover {\n",
       "  /* fitted */\n",
       "  background-color: var(--sklearn-color-fitted-level-3);\n",
       "  color: var(--sklearn-color-background);\n",
       "  text-decoration: none;\n",
       "}\n",
       "\n",
       "/* Span, style for the box shown on hovering the info icon */\n",
       ".sk-estimator-doc-link span {\n",
       "  display: none;\n",
       "  z-index: 9999;\n",
       "  position: relative;\n",
       "  font-weight: normal;\n",
       "  right: .2ex;\n",
       "  padding: .5ex;\n",
       "  margin: .5ex;\n",
       "  width: min-content;\n",
       "  min-width: 20ex;\n",
       "  max-width: 50ex;\n",
       "  color: var(--sklearn-color-text);\n",
       "  box-shadow: 2pt 2pt 4pt #999;\n",
       "  /* unfitted */\n",
       "  background: var(--sklearn-color-unfitted-level-0);\n",
       "  border: .5pt solid var(--sklearn-color-unfitted-level-3);\n",
       "}\n",
       "\n",
       ".sk-estimator-doc-link.fitted span {\n",
       "  /* fitted */\n",
       "  background: var(--sklearn-color-fitted-level-0);\n",
       "  border: var(--sklearn-color-fitted-level-3);\n",
       "}\n",
       "\n",
       ".sk-estimator-doc-link:hover span {\n",
       "  display: block;\n",
       "}\n",
       "\n",
       "/* \"?\"-specific style due to the `<a>` HTML tag */\n",
       "\n",
       "#sk-container-id-4 a.estimator_doc_link {\n",
       "  float: right;\n",
       "  font-size: 1rem;\n",
       "  line-height: 1em;\n",
       "  font-family: monospace;\n",
       "  background-color: var(--sklearn-color-background);\n",
       "  border-radius: 1rem;\n",
       "  height: 1rem;\n",
       "  width: 1rem;\n",
       "  text-decoration: none;\n",
       "  /* unfitted */\n",
       "  color: var(--sklearn-color-unfitted-level-1);\n",
       "  border: var(--sklearn-color-unfitted-level-1) 1pt solid;\n",
       "}\n",
       "\n",
       "#sk-container-id-4 a.estimator_doc_link.fitted {\n",
       "  /* fitted */\n",
       "  border: var(--sklearn-color-fitted-level-1) 1pt solid;\n",
       "  color: var(--sklearn-color-fitted-level-1);\n",
       "}\n",
       "\n",
       "/* On hover */\n",
       "#sk-container-id-4 a.estimator_doc_link:hover {\n",
       "  /* unfitted */\n",
       "  background-color: var(--sklearn-color-unfitted-level-3);\n",
       "  color: var(--sklearn-color-background);\n",
       "  text-decoration: none;\n",
       "}\n",
       "\n",
       "#sk-container-id-4 a.estimator_doc_link.fitted:hover {\n",
       "  /* fitted */\n",
       "  background-color: var(--sklearn-color-fitted-level-3);\n",
       "}\n",
       "</style><div id=\"sk-container-id-4\" class=\"sk-top-container\"><div class=\"sk-text-repr-fallback\"><pre>DecisionTreeClassifier(criterion=&#x27;entropy&#x27;, random_state=42)</pre><b>In a Jupyter environment, please rerun this cell to show the HTML representation or trust the notebook. <br />On GitHub, the HTML representation is unable to render, please try loading this page with nbviewer.org.</b></div><div class=\"sk-container\" hidden><div class=\"sk-item\"><div class=\"sk-estimator fitted sk-toggleable\"><input class=\"sk-toggleable__control sk-hidden--visually\" id=\"sk-estimator-id-4\" type=\"checkbox\" checked><label for=\"sk-estimator-id-4\" class=\"sk-toggleable__label fitted sk-toggleable__label-arrow fitted\">&nbsp;&nbsp;DecisionTreeClassifier<a class=\"sk-estimator-doc-link fitted\" rel=\"noreferrer\" target=\"_blank\" href=\"https://scikit-learn.org/1.4/modules/generated/sklearn.tree.DecisionTreeClassifier.html\">?<span>Documentation for DecisionTreeClassifier</span></a><span class=\"sk-estimator-doc-link fitted\">i<span>Fitted</span></span></label><div class=\"sk-toggleable__content fitted\"><pre>DecisionTreeClassifier(criterion=&#x27;entropy&#x27;, random_state=42)</pre></div> </div></div></div></div>"
      ],
      "text/plain": [
       "DecisionTreeClassifier(criterion='entropy', random_state=42)"
      ]
     },
     "execution_count": 231,
     "metadata": {},
     "output_type": "execute_result"
    }
   ],
   "source": [
    "model.fit(X_train, y_train)"
   ]
  },
  {
   "cell_type": "markdown",
   "id": "424b908d-447a-4170-91d1-e2676b24da7a",
   "metadata": {},
   "source": [
    "### Predictions"
   ]
  },
  {
   "cell_type": "code",
   "execution_count": 234,
   "id": "14ea4530-7609-4f5f-943e-07ca00a94515",
   "metadata": {},
   "outputs": [
    {
     "data": {
      "text/plain": [
       "array([3, 0, 3, 2, 3, 3, 1, 3, 0, 3, 2, 0, 0, 1, 2, 3, 2, 0, 2, 3, 0, 0,\n",
       "       0, 2, 2, 1, 0, 3, 1, 1, 3, 1, 0, 2, 2, 0, 0, 3, 3, 1, 2, 2, 2, 3,\n",
       "       1, 2, 2, 3, 0, 2, 3, 1, 3, 2, 1, 3, 1, 2, 2, 0, 3, 0, 3, 0, 0, 2,\n",
       "       1, 2, 0, 1, 0, 1, 2, 1, 0, 1, 0, 3, 2, 1, 3, 3, 2, 0, 1, 2, 3, 1,\n",
       "       0, 1, 3, 1, 2, 3, 2, 2, 0, 0, 3, 1, 1, 1, 3, 2, 3, 1, 1, 1, 3, 0,\n",
       "       0, 2, 1, 3, 3, 0, 2, 0, 2, 2, 0, 2, 0, 3, 2, 0, 2, 2, 3, 3, 2, 0,\n",
       "       2, 0, 0, 2, 3, 2, 1, 3, 1, 0, 1, 3, 1, 3, 3, 3, 0, 1, 3, 1, 1, 1,\n",
       "       0, 3, 0, 1, 2, 3, 2, 1, 2, 0, 1, 2, 2, 0, 0, 2, 1, 0, 0, 2, 2, 2,\n",
       "       1, 2, 2, 2, 0, 1, 2, 1, 1, 1, 2, 0, 0, 2, 1, 1, 3, 0, 1, 1, 3, 0,\n",
       "       0, 3, 2, 2, 1, 1, 0, 2, 3, 0, 3, 3, 3, 1, 3, 0, 0, 0, 3, 3, 2, 2,\n",
       "       3, 0, 2, 0, 3, 2, 1, 3, 2, 2, 2, 1, 0, 0, 2, 0, 0, 2, 0, 0, 1, 3,\n",
       "       2, 0, 0, 1, 2, 0, 1, 0, 1, 1, 1, 2, 1, 2, 1, 0, 3, 3, 0, 1, 1, 1,\n",
       "       1, 3, 0, 2, 3, 0, 2, 2, 0, 3, 1, 3, 3, 1, 3, 3, 0, 1, 2, 0, 3, 2,\n",
       "       2, 1, 1, 0, 2, 2, 1, 2, 0, 3, 3, 0, 1, 1, 2, 3, 1, 0, 3, 1, 1, 2,\n",
       "       2, 1, 2, 0, 1, 0, 0, 3, 2, 1, 0, 1, 1, 3, 3, 1, 0, 2, 1, 0, 2, 2,\n",
       "       0, 2, 0, 3, 1, 0, 1, 2, 3, 2, 1, 1, 2, 3, 1, 3, 3, 1, 0, 1, 0, 3,\n",
       "       3, 3, 2, 3, 0, 1, 3, 1, 3, 0, 0, 0, 0, 2, 3, 2, 2, 2, 3, 3, 0, 0,\n",
       "       2, 3, 3, 1, 2, 0, 0, 0, 3, 0, 3, 1, 3, 1, 2, 2, 1, 2, 2, 2, 1, 0,\n",
       "       0, 3, 3, 0, 2, 0, 1, 1, 1, 2, 1, 3, 1, 1, 1, 3, 2, 2, 2, 1, 0, 2,\n",
       "       0, 0, 2, 0, 0, 0, 0, 0, 3, 3, 1, 3, 0, 1, 2, 3, 0, 1, 0, 1, 1, 3,\n",
       "       1, 0, 1, 1, 1, 0, 0, 0, 1, 0, 2, 3, 3, 1, 2, 0, 2, 2, 0, 1, 3, 3,\n",
       "       2, 0, 2, 2, 2, 3, 1, 1, 3, 3])"
      ]
     },
     "execution_count": 234,
     "metadata": {},
     "output_type": "execute_result"
    }
   ],
   "source": [
    "y_pred = model.predict(X_test)\n",
    "y_pred"
   ]
  },
  {
   "cell_type": "markdown",
   "id": "d0cd6235-2af7-4342-a72d-274a03188d6e",
   "metadata": {},
   "source": [
    "### Model Evaluation"
   ]
  },
  {
   "cell_type": "code",
   "execution_count": 237,
   "id": "83f3cf65-e0cf-4577-978f-0047b128e23b",
   "metadata": {},
   "outputs": [],
   "source": [
    "from sklearn.metrics import accuracy_score as acc\n",
    "from sklearn.metrics import classification_report as cr\n",
    "from sklearn.metrics import confusion_matrix as cm"
   ]
  },
  {
   "cell_type": "markdown",
   "id": "f93842dd-1802-4351-a710-762a0e3e73a3",
   "metadata": {},
   "source": [
    "### Accuracy"
   ]
  },
  {
   "cell_type": "code",
   "execution_count": 240,
   "id": "12321379-0001-49c2-86ff-5c552a8be12c",
   "metadata": {},
   "outputs": [
    {
     "data": {
      "text/plain": [
       "0.6122881355932204"
      ]
     },
     "execution_count": 240,
     "metadata": {},
     "output_type": "execute_result"
    }
   ],
   "source": [
    "acc(y_test, y_pred)"
   ]
  },
  {
   "cell_type": "markdown",
   "id": "fcee1b59-761a-4537-8505-30636a3c705e",
   "metadata": {},
   "source": [
    "### Classification Report"
   ]
  },
  {
   "cell_type": "code",
   "execution_count": 243,
   "id": "c3760f08-ba4d-4a99-9ef2-989f4115091e",
   "metadata": {},
   "outputs": [
    {
     "name": "stdout",
     "output_type": "stream",
     "text": [
      "              precision    recall  f1-score   support\n",
      "\n",
      "           0       0.55      0.58      0.56       118\n",
      "           1       0.46      0.43      0.44       128\n",
      "           2       0.72      0.69      0.71       126\n",
      "           3       0.72      0.79      0.76       100\n",
      "\n",
      "    accuracy                           0.61       472\n",
      "   macro avg       0.62      0.62      0.62       472\n",
      "weighted avg       0.61      0.61      0.61       472\n",
      "\n"
     ]
    }
   ],
   "source": [
    "print(cr(y_test, y_pred))"
   ]
  },
  {
   "cell_type": "markdown",
   "id": "bea9e482-c341-486b-bf52-aa80dcb902f0",
   "metadata": {},
   "source": [
    "### Confusion Matrix"
   ]
  },
  {
   "cell_type": "code",
   "execution_count": 246,
   "id": "7eee7ba0-af04-4210-82d7-3131fffa29ad",
   "metadata": {},
   "outputs": [
    {
     "data": {
      "text/plain": [
       "<Axes: >"
      ]
     },
     "execution_count": 246,
     "metadata": {},
     "output_type": "execute_result"
    },
    {
     "data": {
      "image/png": "[encoded data removed]",
      "text/plain": [
       "<Figure size 640x480 with 2 Axes>"
      ]
     },
     "metadata": {},
     "output_type": "display_data"
    }
   ],
   "source": [
    "confusion = cm(y_test, y_pred)\n",
    "sns.heatmap(confusion, annot = True, fmt = 'd')"
   ]
  },
  {
   "cell_type": "markdown",
   "id": "edfeafed-8c2c-4202-a31e-2ee9dc9c7c7e",
   "metadata": {},
   "source": [
    "### Building Multiple models: Best model"
   ]
  },
  {
   "cell_type": "code",
   "execution_count": 263,
   "id": "a5f3a2d0-ceac-4951-878e-e187c942831d",
   "metadata": {},
   "outputs": [],
   "source": [
    "from sklearn.tree import DecisionTreeClassifier as DTC\n",
    "from sklearn.ensemble import RandomForestClassifier as RFC\n",
    "from sklearn.svm import SVC\n",
    "from sklearn.neighbors import KNeighborsClassifier as KNN\n",
    "from sklearn.linear_model import LogisticRegression as LR\n",
    "from sklearn.naive_bayes import GaussianNB"
   ]
  },
  {
   "cell_type": "code",
   "execution_count": 277,
   "id": "0e07b0d6-fda9-4195-b8f8-5abc577ec662",
   "metadata": {},
   "outputs": [],
   "source": [
    "dtc_model = DTC(criterion = 'entropy', random_state = 42)\n",
    "rfc_model = RFC( n_estimators = 10, criterion = 'entropy')\n",
    "svc_model = SVC()\n",
    "knn_model = KNN()\n",
    "lr_model = LR()\n",
    "gnb_model = GaussianNB()"
   ]
  },
  {
   "cell_type": "code",
   "execution_count": 279,
   "id": "4b9ad4dc-244a-47dd-9775-1ba853f06874",
   "metadata": {},
   "outputs": [],
   "source": [
    "model_list = [dtc_model, rfc_model, svc_model, knn_model, lr_model, gnb_model]"
   ]
  },
  {
   "cell_type": "code",
   "execution_count": 281,
   "id": "f50ae895-ce24-4040-b312-bd8693b768df",
   "metadata": {},
   "outputs": [],
   "source": [
    "from sklearn.metrics import accuracy_score"
   ]
  },
  {
   "cell_type": "code",
   "execution_count": 283,
   "id": "6789b2a4-b801-428c-86c8-8c2b16403863",
   "metadata": {},
   "outputs": [],
   "source": [
    "acc_list = []\n",
    "for model1 in model_list:\n",
    "    model1.fit(X_train, y_train)\n",
    "    y_pred1 = model1.predict(X_test)\n",
    "    acc = accuracy_score(y_test, y_pred)\n",
    "    acc_list.append(acc)\n",
    "\n"
   ]
  },
  {
   "cell_type": "code",
   "execution_count": 285,
   "id": "564d587a-efd6-462b-ae20-1c26959da0a3",
   "metadata": {},
   "outputs": [
    {
     "data": {
      "text/plain": [
       "[0.6122881355932204,\n",
       " 0.6122881355932204,\n",
       " 0.6122881355932204,\n",
       " 0.6122881355932204,\n",
       " 0.6122881355932204,\n",
       " 0.6122881355932204]"
      ]
     },
     "execution_count": 285,
     "metadata": {},
     "output_type": "execute_result"
    }
   ],
   "source": [
    "acc_list"
   ]
  },
  {
   "cell_type": "code",
   "execution_count": 288,
   "id": "afe8a0cd-8992-4cd3-9578-0cfa2d6ed82b",
   "metadata": {},
   "outputs": [
    {
     "data": {
      "text/html": [
       "<div>\n",
       "<style scoped>\n",
       "    .dataframe tbody tr th:only-of-type {\n",
       "        vertical-align: middle;\n",
       "    }\n",
       "\n",
       "    .dataframe tbody tr th {\n",
       "        vertical-align: top;\n",
       "    }\n",
       "\n",
       "    .dataframe thead th {\n",
       "        text-align: right;\n",
       "    }\n",
       "</style>\n",
       "<table border=\"1\" class=\"dataframe\">\n",
       "  <thead>\n",
       "    <tr style=\"text-align: right;\">\n",
       "      <th></th>\n",
       "      <th>Model</th>\n",
       "      <th>Accuracy</th>\n",
       "    </tr>\n",
       "  </thead>\n",
       "  <tbody>\n",
       "    <tr>\n",
       "      <th>0</th>\n",
       "      <td>DecisionTreeClassifier(criterion='entropy', ra...</td>\n",
       "      <td>0.612288</td>\n",
       "    </tr>\n",
       "    <tr>\n",
       "      <th>1</th>\n",
       "      <td>(DecisionTreeClassifier(criterion='entropy', m...</td>\n",
       "      <td>0.612288</td>\n",
       "    </tr>\n",
       "    <tr>\n",
       "      <th>2</th>\n",
       "      <td>SVC()</td>\n",
       "      <td>0.612288</td>\n",
       "    </tr>\n",
       "    <tr>\n",
       "      <th>3</th>\n",
       "      <td>KNeighborsClassifier()</td>\n",
       "      <td>0.612288</td>\n",
       "    </tr>\n",
       "    <tr>\n",
       "      <th>4</th>\n",
       "      <td>LogisticRegression()</td>\n",
       "      <td>0.612288</td>\n",
       "    </tr>\n",
       "    <tr>\n",
       "      <th>5</th>\n",
       "      <td>GaussianNB()</td>\n",
       "      <td>0.612288</td>\n",
       "    </tr>\n",
       "  </tbody>\n",
       "</table>\n",
       "</div>"
      ],
      "text/plain": [
       "                                               Model  Accuracy\n",
       "0  DecisionTreeClassifier(criterion='entropy', ra...  0.612288\n",
       "1  (DecisionTreeClassifier(criterion='entropy', m...  0.612288\n",
       "2                                              SVC()  0.612288\n",
       "3                             KNeighborsClassifier()  0.612288\n",
       "4                               LogisticRegression()  0.612288\n",
       "5                                       GaussianNB()  0.612288"
      ]
     },
     "execution_count": 288,
     "metadata": {},
     "output_type": "execute_result"
    }
   ],
   "source": [
    "model_df = pd.DataFrame({\"Model\" : model_list, \"Accuracy\" : acc_list})\n",
    "model_df"
   ]
  },
  {
   "cell_type": "markdown",
   "id": "e40643b5-67c5-47a5-9369-d066cb097439",
   "metadata": {},
   "source": [
    "### Saving the model"
   ]
  },
  {
   "cell_type": "code",
   "execution_count": 297,
   "id": "ad8540f4-1d7b-40f1-a768-ec42c3baeea7",
   "metadata": {},
   "outputs": [
    {
     "data": {
      "text/plain": [
       "['Weather_Forecast_model.joblib']"
      ]
     },
     "execution_count": 297,
     "metadata": {},
     "output_type": "execute_result"
    }
   ],
   "source": [
    "import joblib\n",
    "joblib.dump(model, \"Weather_Forecast_model.joblib\")"
   ]
  },
  {
   "cell_type": "code",
   "execution_count": 299,
   "id": "0bb450b9-f7aa-4c01-b4ef-28c54805ad96",
   "metadata": {},
   "outputs": [],
   "source": [
    "model = joblib.load(\"Weather_Forecast_model.joblib\")"
   ]
  },
  {
   "cell_type": "code",
   "execution_count": 301,
   "id": "ff79742f-7701-41b0-a00c-f6e4ecfb5ef9",
   "metadata": {},
   "outputs": [
    {
     "data": {
      "text/plain": [
       "array([3, 1, 3, 2, 3, 3, 0, 3, 0, 3, 2, 0, 0, 2, 2, 3, 2, 2, 2, 3, 2, 2,\n",
       "       2, 2, 2, 0, 0, 3, 1, 1, 3, 1, 2, 2, 2, 0, 0, 3, 3, 2, 2, 2, 2, 3,\n",
       "       1, 1, 2, 3, 0, 2, 1, 3, 3, 3, 0, 3, 1, 2, 2, 2, 3, 0, 3, 1, 0, 2,\n",
       "       0, 2, 0, 0, 0, 0, 0, 2, 0, 3, 2, 3, 1, 1, 3, 3, 2, 2, 2, 2, 3, 1,\n",
       "       0, 2, 1, 0, 2, 3, 1, 2, 0, 3, 2, 2, 0, 1, 3, 2, 3, 1, 3, 3, 3, 0,\n",
       "       2, 2, 2, 3, 3, 1, 3, 0, 3, 2, 0, 2, 0, 3, 2, 2, 3, 2, 3, 2, 2, 2,\n",
       "       3, 0, 2, 2, 3, 3, 0, 3, 1, 2, 1, 3, 0, 3, 3, 3, 3, 3, 3, 2, 1, 3,\n",
       "       0, 3, 0, 3, 2, 3, 3, 1, 2, 0, 1, 2, 2, 2, 1, 2, 1, 0, 2, 2, 3, 2,\n",
       "       1, 2, 2, 3, 0, 2, 1, 0, 1, 0, 2, 0, 1, 2, 1, 1, 3, 2, 0, 0, 3, 1,\n",
       "       1, 3, 2, 2, 2, 3, 0, 2, 3, 1, 3, 3, 3, 2, 3, 0, 2, 2, 3, 3, 3, 3,\n",
       "       3, 0, 2, 0, 3, 2, 2, 3, 2, 2, 2, 0, 0, 0, 3, 2, 0, 2, 2, 2, 2, 3,\n",
       "       3, 1, 2, 1, 3, 0, 2, 0, 1, 3, 1, 2, 2, 2, 0, 2, 3, 3, 0, 2, 3, 0,\n",
       "       2, 2, 2, 2, 3, 0, 2, 2, 0, 3, 0, 3, 3, 3, 3, 0, 3, 0, 3, 0, 3, 2,\n",
       "       2, 3, 2, 0, 1, 2, 2, 3, 0, 3, 3, 0, 0, 1, 2, 3, 2, 0, 3, 1, 0, 2,\n",
       "       2, 2, 2, 0, 2, 0, 0, 3, 2, 1, 0, 1, 1, 3, 3, 2, 0, 2, 1, 1, 1, 2,\n",
       "       0, 2, 0, 1, 0, 0, 2, 2, 3, 2, 0, 2, 2, 3, 2, 2, 3, 2, 0, 2, 2, 3,\n",
       "       3, 3, 3, 3, 2, 1, 2, 2, 3, 0, 0, 0, 0, 2, 3, 1, 2, 2, 3, 3, 0, 1,\n",
       "       3, 3, 3, 0, 2, 0, 0, 3, 3, 0, 3, 0, 3, 2, 2, 2, 1, 3, 2, 2, 1, 0,\n",
       "       0, 3, 3, 1, 2, 0, 2, 0, 1, 2, 0, 2, 1, 2, 0, 3, 2, 2, 2, 0, 2, 2,\n",
       "       0, 0, 1, 1, 1, 0, 0, 0, 3, 3, 0, 3, 3, 0, 1, 3, 1, 0, 0, 2, 2, 3,\n",
       "       0, 0, 0, 0, 2, 0, 1, 0, 0, 1, 2, 3, 1, 3, 2, 0, 1, 3, 0, 3, 3, 3,\n",
       "       3, 0, 2, 2, 2, 3, 1, 0, 3, 3])"
      ]
     },
     "execution_count": 301,
     "metadata": {},
     "output_type": "execute_result"
    }
   ],
   "source": [
    "predictions = model.predict(X_test)\n",
    "predictions"
   ]
  },
  {
   "cell_type": "code",
   "execution_count": null,
   "id": "93e9553d-babd-439a-9a86-8cfa2639f284",
   "metadata": {},
   "outputs": [],
   "source": []
  }
 ],
 "metadata": {
  "kernelspec": {
   "display_name": "Python 3 (ipykernel)",
   "language": "python",
   "name": "python3"
  },
  "language_info": {
   "codemirror_mode": {
    "name": "ipython",
    "version": 3
   },
   "file_extension": ".py",
   "mimetype": "text/x-python",
   "name": "python",
   "nbconvert_exporter": "python",
   "pygments_lexer": "ipython3",
   "version": "3.12.4"
  }
 },
 "nbformat": 4,
 "nbformat_minor": 5
}
